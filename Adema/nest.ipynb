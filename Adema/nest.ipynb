{
 "cells": [
  {
   "metadata": {
    "ExecuteTime": {
     "end_time": "2025-05-25T01:32:24.086933Z",
     "start_time": "2025-05-25T01:32:21.851722Z"
    }
   },
   "cell_type": "code",
   "source": [
    "# import libraries \n",
    "import nest\n",
    "import nest.voltage_trace\n",
    "import numpy as np\n",
    "import random\n",
    "import matplotlib.pyplot as plt\n",
    "import pandas as pd\n",
    "import networkx as nx\n",
    "import pathlib\n",
    "from collections import deque\n",
    "import os\n",
    "\n",
    "rng = np.random.default_rng(42)"
   ],
   "id": "122fe4cbee17d804",
   "outputs": [
    {
     "name": "stdout",
     "output_type": "stream",
     "text": [
      "\n",
      "              -- N E S T --\n",
      "  Copyright (C) 2004 The NEST Initiative\n",
      "\n",
      " Version: 3.8.0\n",
      " Built: Aug 27 2024 04:36:56\n",
      "\n",
      " This program is provided AS IS and comes with\n",
      " NO WARRANTY. See the file LICENSE for details.\n",
      "\n",
      " Problems or suggestions?\n",
      "   Visit https://www.nest-simulator.org\n",
      "\n",
      " Type 'nest.help()' to find out more about NEST.\n",
      "\n"
     ]
    }
   ],
   "execution_count": 1
  },
  {
   "metadata": {
    "ExecuteTime": {
     "end_time": "2025-05-25T01:32:24.103805Z",
     "start_time": "2025-05-25T01:32:24.097158Z"
    }
   },
   "cell_type": "code",
   "source": [
    "DATA_DIR = pathlib.Path('../Datasets/Original')\n",
    "\n",
    "CELLTYPE_MAP = {\n",
    "    'KCs': 'exc', 'PNs': 'exc', 'PNs-somato': 'exc',\n",
    "    'LNs': 'inh', 'MB-FBNs': 'inh', 'MB-FFNs': 'inh',\n",
    "    'pre-DN-SEZs': 'mixed', 'pre-DN-VNCs': 'mixed', 'RGNs': 'inh',\n",
    "    'DN-VNCs': 'mixed', 'LHNs': 'exc',\n",
    "    'MBONs': 'exc', 'MBINs': 'mod', 'DN-SEZs': 'mixed', 'CNs': 'mixed'\n",
    "}\n",
    "\n",
    "neuron_params = {\n",
    "    'C_m': 250,\n",
    "    'tau_m': 30,\n",
    "    't_ref': 3,\n",
    "    'E_L': -70,\n",
    "    'V_reset': -70,\n",
    "    'V_th': -55,\n",
    "}"
   ],
   "id": "b2c783aa1f9930c0",
   "outputs": [],
   "execution_count": 2
  },
  {
   "metadata": {
    "ExecuteTime": {
     "end_time": "2025-05-25T01:32:27.111533Z",
     "start_time": "2025-05-25T01:32:24.307414Z"
    }
   },
   "cell_type": "code",
   "source": [
    "# load connectivity matrices\n",
    "aa = pd.read_csv(DATA_DIR / 'aa_connectivity_matrix.csv', index_col=0)\n",
    "ad = pd.read_csv(DATA_DIR / 'ad_connectivity_matrix.csv', index_col=0)\n",
    "da = pd.read_csv(DATA_DIR / 'da_connectivity_matrix.csv', index_col=0)\n",
    "dd = pd.read_csv(DATA_DIR / 'dd_connectivity_matrix.csv', index_col=0)"
   ],
   "id": "c774d7ed89aac7c3",
   "outputs": [],
   "execution_count": 3
  },
  {
   "metadata": {
    "ExecuteTime": {
     "end_time": "2025-05-25T01:32:27.153599Z",
     "start_time": "2025-05-25T01:32:27.150707Z"
    }
   },
   "cell_type": "code",
   "source": [
    "conn_mats = {\n",
    "    'aa': aa,\n",
    "    'ad': ad, \n",
    "    'da': da, \n",
    "    'dd': dd\n",
    "}"
   ],
   "id": "5d7b7f7bb72ca35d",
   "outputs": [],
   "execution_count": 4
  },
  {
   "metadata": {
    "ExecuteTime": {
     "end_time": "2025-05-25T01:32:27.191221Z",
     "start_time": "2025-05-25T01:32:27.188588Z"
    }
   },
   "cell_type": "code",
   "source": [
    "def load_attributes() -> pd.DataFrame:\n",
    "    # merge s3 and s4 tabls\n",
    "    s3 = pd.read_csv(DATA_DIR / 's3.csv')\n",
    "    s4 = pd.read_csv(DATA_DIR / 's4.csv')\n",
    "    return s3.merge(s4, on='skid', how='left', suffixes=('_axon', '_dendrite'))"
   ],
   "id": "cfae1fdf911fe9d8",
   "outputs": [],
   "execution_count": 5
  },
  {
   "metadata": {
    "ExecuteTime": {
     "end_time": "2025-05-25T01:32:27.230373Z",
     "start_time": "2025-05-25T01:32:27.226205Z"
    }
   },
   "cell_type": "code",
   "source": [
    "def build_graph(conn_mats: dict[str, pd.DataFrame]) -> nx.DiGraph:\n",
    "    aa, ad, da, dd = conn_mats['aa'], conn_mats['ad'], conn_mats['da'], conn_mats['dd']\n",
    "    G = nx.DiGraph()\n",
    "    for nid in aa.index:\n",
    "        G.add_node(int(nid))\n",
    "    \n",
    "    for pre_id in aa.index:\n",
    "        for post_id in aa.columns:\n",
    "            w_aa, w_ad = aa.loc[pre_id, post_id], ad.loc[pre_id, post_id]\n",
    "            w_da, w_dd = da.loc[pre_id, post_id], dd.loc[pre_id, post_id]\n",
    "            weight = w_aa + w_ad + w_da + w_dd \n",
    "            if weight > 0:\n",
    "                G.add_edge(int(pre_id), int(post_id), weight=(weight))\n",
    "                \n",
    "    return G"
   ],
   "id": "4959b3dac8949f3",
   "outputs": [],
   "execution_count": 6
  },
  {
   "metadata": {
    "ExecuteTime": {
     "end_time": "2025-05-25T01:32:27.315257Z",
     "start_time": "2025-05-25T01:32:27.305010Z"
    }
   },
   "cell_type": "code",
   "source": [
    "def annotate_graph(G: nx.DiGraph, attr_df: pd.DataFrame,\n",
    "                   inh_targer_perc: float = 0.20,\n",
    "                   rng = None) -> None:\n",
    "    rng = rng or random.Random(42)   \n",
    "    \n",
    "    # inhibitory/excitatory\n",
    "    for nid in G.nodes:\n",
    "        G.nodes[nid]['is_inh'] = None\n",
    "        \n",
    "    known_inh, candidates = set(), []\n",
    "    for _, row in attr_df.iterrows():\n",
    "        nid = int(row['skid'])\n",
    "        if nid not in G: \n",
    "            continue\n",
    "        ctype = str(row.get('celltype_axon', row.get('celltype')))\n",
    "        tag = CELLTYPE_MAP.get(ctype, 'unknown')\n",
    "        \n",
    "        if tag == 'inh':\n",
    "            G.nodes[nid]['is_inh'] = True\n",
    "            known_inh.add(nid)\n",
    "        elif tag == 'exc' or tag == 'unknown':\n",
    "            G.nodes[nid]['is_inh'] = False\n",
    "        else: # mixed/mod\n",
    "            candidates.append(nid)\n",
    "        \n",
    "        total_n = len(G.nodes)\n",
    "        target_inh = int(inh_targer_perc * total_n)\n",
    "        remaining_inh = target_inh - len(known_inh)\n",
    "    \n",
    "        random.shuffle(candidates)\n",
    "        selected_inh = set(candidates[:remaining_inh])\n",
    "    \n",
    "        for nid in candidates:\n",
    "            G.nodes[nid]['is_inh'] = (nid in selected_inh)\n",
    "    \n",
    "        for nid in G.nodes:\n",
    "            if G.nodes[nid]['is_inh'] is None:\n",
    "                G.nodes[nid]['is_inh'] = False\n",
    "                \n",
    "    # is_input/is_output\n",
    "    inp = pd.read_csv(DATA_DIR / 'inputs.csv',  index_col=0)\n",
    "    out = pd.read_csv(DATA_DIR / 'outputs.csv', index_col=0)\n",
    "    for nid in G:\n",
    "        G.nodes[nid]['is_input']  = inp['axon_input'].get(nid, 0)  > 50\n",
    "        G.nodes[nid]['is_output'] = out['axon_output'].get(nid, 0) > 50\n",
    "    \n",
    "    # signal depth \n",
    "    depth = {n:-1 for n in G.nodes}\n",
    "    q = deque([n for n in G.nodes if G.nodes[n]['is_input']])\n",
    "    for n in q: depth[n]=0\n",
    "    while q:\n",
    "        u=q.popleft()\n",
    "        for v in G.successors(u):\n",
    "            if depth[v]==-1:\n",
    "                depth[v]=depth[u]+1\n",
    "                q.append(v)\n",
    "    for n in G.nodes: G.nodes[n]['signal_depth']=depth[n]\n",
    "    \n",
    "    # direction label\n",
    "    def edge_dir(u,v):\n",
    "        du,dv = depth[u], depth[v]\n",
    "        if du<0 or dv<0: return 'unknown'\n",
    "        if du<dv: return 'feedforward'\n",
    "        if du>dv: return 'feedback'\n",
    "        return 'lateral'\n",
    "    \n",
    "    for u,v,d in G.edges(data=True):\n",
    "        d['signal_direction']=edge_dir(u,v) "
   ],
   "id": "893cbba316925726",
   "outputs": [],
   "execution_count": 7
  },
  {
   "metadata": {
    "ExecuteTime": {
     "end_time": "2025-05-25T01:32:27.739476Z",
     "start_time": "2025-05-25T01:32:27.733936Z"
    }
   },
   "cell_type": "code",
   "source": [
    "def create_nest_network(G: nx.DiGraph,\n",
    "                        neuron_params: dict,\n",
    "                        BASE_W: float = 1,\n",
    "                        DELAY: float = 1.5,) -> tuple[list[int], dict[int, int]]:\n",
    "\n",
    "    nest.ResetKernel()\n",
    "    neurons = nest.Create('iaf_psc_alpha', G.number_of_nodes(), params=neuron_params)\n",
    "    node_list = sorted(G.nodes())\n",
    "    node_index = {nid: i for i, nid in enumerate(node_list)}\n",
    "\n",
    "    for u, v, d in G.edges(data=True):\n",
    "        w = d['weight']\n",
    "        sign = -1 if G.nodes[u]['is_inh'] else 1\n",
    "        weight = BASE_W * w * sign\n",
    "        nest.Connect(\n",
    "            neurons[node_index[u]:node_index[u]+1],\n",
    "            neurons[node_index[v]:node_index[v]+1],\n",
    "            syn_spec={'weight': weight, 'delay': DELAY}\n",
    "        )\n",
    "    return neurons, node_index"
   ],
   "id": "3222463206c84826",
   "outputs": [],
   "execution_count": 8
  },
  {
   "metadata": {
    "ExecuteTime": {
     "end_time": "2025-05-25T01:32:28.293042Z",
     "start_time": "2025-05-25T01:32:28.290465Z"
    }
   },
   "cell_type": "code",
   "source": [
    "def connect_spike_recorder(neurons):\n",
    "    spike_recorder = nest.Create('spike_recorder')\n",
    "    nest.Connect(neurons, spike_recorder)\n",
    "    return spike_recorder"
   ],
   "id": "8a7f03a3e3d4b911",
   "outputs": [],
   "execution_count": 9
  },
  {
   "metadata": {
    "ExecuteTime": {
     "end_time": "2025-05-25T01:32:28.917999Z",
     "start_time": "2025-05-25T01:32:28.914414Z"
    }
   },
   "cell_type": "code",
   "source": [
    "def connect_dc_generator(\n",
    "        stim_ids: list, neurons,\n",
    "        node_index, stim_amp: float, \n",
    "        start: float, stop: float):\n",
    "    dc = nest.Create('dc_generator', params={'amplitude': stim_amp, 'start': start, 'stop': stop})\n",
    "    for nid in stim_ids:\n",
    "        idx = node_index[nid]\n",
    "        nest.Connect(dc, neurons[idx:idx+1])     "
   ],
   "id": "bc0464648605ef22",
   "outputs": [],
   "execution_count": 10
  },
  {
   "metadata": {
    "ExecuteTime": {
     "end_time": "2025-05-25T01:32:29.417087Z",
     "start_time": "2025-05-25T01:32:29.414268Z"
    }
   },
   "cell_type": "code",
   "source": [
    "def connect_multimeter(neurons, interval: float = 0.5):\n",
    "    mm = nest.Create('multimeter')\n",
    "    nest.SetStatus(mm, [{\n",
    "        'interval': interval,\n",
    "        'record_from': ['V_m']\n",
    "    }])\n",
    "    nest.Connect(mm, neurons)\n",
    "    return mm"
   ],
   "id": "355f40c630dc5c8b",
   "outputs": [],
   "execution_count": 11
  },
  {
   "metadata": {
    "ExecuteTime": {
     "end_time": "2025-05-25T01:32:29.838402Z",
     "start_time": "2025-05-25T01:32:29.835264Z"
    }
   },
   "cell_type": "code",
   "source": [
    "def get_input_neuron_ids(G: nx.DiGraph) -> list[int]:\n",
    "    return [nid for nid, data in G.nodes(data=True) if data.get('is_input', False)]"
   ],
   "id": "604fa52463e13483",
   "outputs": [],
   "execution_count": 12
  },
  {
   "metadata": {
    "ExecuteTime": {
     "end_time": "2025-05-25T01:32:30.291312Z",
     "start_time": "2025-05-25T01:32:30.287517Z"
    }
   },
   "cell_type": "code",
   "source": [
    "def prepare_graph(conn_mats):\n",
    "    print('building graph...')\n",
    "    G = build_graph(conn_mats)\n",
    "    print(f'Graph: {len(G)} neurons,'\n",
    "          f'with {G.number_of_nodes()} nodes')\n",
    "    attr = load_attributes()\n",
    "    print('annotating graph...')\n",
    "    annotate_graph(G=G, attr_df=attr)\n",
    "    return G"
   ],
   "id": "114bcb11d55be1e5",
   "outputs": [],
   "execution_count": 13
  },
  {
   "metadata": {
    "ExecuteTime": {
     "end_time": "2025-05-25T09:03:37.565154Z",
     "start_time": "2025-05-25T09:03:37.557282Z"
    }
   },
   "cell_type": "code",
   "source": [
    "def run_experiment(\n",
    "        G: nx.DiGraph,\n",
    "        stim_start: float,\n",
    "        stim_stop: float,\n",
    "        tail: float,\n",
    "        generator_amp: float = 600,\n",
    "        stim_ids: list = None,\n",
    "        BASE_W: float = 1,\n",
    "        DELAY: float = 2.5,):\n",
    "    sim_time = stim_stop + tail\n",
    "    \n",
    "    print('creating nest network...')\n",
    "    neurons, node_index = create_nest_network(\n",
    "        G=G, neuron_params=neuron_params, \n",
    "        BASE_W=BASE_W, DELAY=DELAY)\n",
    "    spike_recorder = connect_spike_recorder(neurons)\n",
    "    multimeter = connect_multimeter(neurons, interval=0.5)\n",
    "    \n",
    "    if stim_ids is None:                      \n",
    "        stim_ids = get_input_neuron_ids(G)\n",
    "        \n",
    "    print(f'Stimulation of {len(stim_ids)} neurons ')\n",
    "    connect_dc_generator(\n",
    "        stim_ids=stim_ids, \n",
    "        neurons=neurons,\n",
    "        node_index=node_index, \n",
    "        stim_amp=generator_amp, \n",
    "        start=stim_start, \n",
    "        stop=stim_stop\n",
    "    )\n",
    "    \n",
    "    nest.Simulate(sim_time)\n",
    "    \n",
    "    events = nest.GetStatus(spike_recorder, 'events')[0]\n",
    "    return events, multimeter, neurons, node_index "
   ],
   "id": "c85444ba0025850e",
   "outputs": [],
   "execution_count": 61
  },
  {
   "metadata": {},
   "cell_type": "code",
   "source": [
    "stim_start = 50\n",
    "stim_stop = 500\n",
    "tail = 1000\n",
    "G = prepare_graph(conn_mats)\n",
    "events, times = run_experiment(G=G, stim_start=stim_start, stim_stop=stim_stop, tail=tail, generator_amp=600, BASE_W=4.6, DELAY=2.5)"
   ],
   "id": "616c98de92da7057",
   "outputs": [],
   "execution_count": null
  },
  {
   "metadata": {
    "ExecuteTime": {
     "end_time": "2025-05-25T09:05:13.729433Z",
     "start_time": "2025-05-25T09:04:30.338491Z"
    }
   },
   "cell_type": "code",
   "source": "events, multimeter, neurons, node_index = run_experiment(G=G, stim_start=50, stim_stop=150, tail=1000, generator_amp=100, BASE_W=4.6, DELAY=2.5)",
   "id": "b19a750000a8f2f8",
   "outputs": [
    {
     "name": "stdout",
     "output_type": "stream",
     "text": [
      "creating nest network...\n",
      "Stimulation of 687 neurons \n",
      "\n",
      "May 25 14:05:12 NodeManager::prepare_nodes [Info]: \n",
      "    Preparing 2955 nodes for simulation.\n",
      "\n",
      "May 25 14:05:12 SimulationManager::start_updating_ [Info]: \n",
      "    Number of local nodes: 2955\n",
      "    Simulation time (ms): 1150\n",
      "    Number of OpenMP threads: 1\n",
      "    Not using MPI\n",
      "\n",
      "May 25 14:05:13 SimulationManager::run [Info]: \n",
      "    Simulation finished.\n"
     ]
    }
   ],
   "execution_count": 62
  },
  {
   "metadata": {
    "ExecuteTime": {
     "end_time": "2025-05-25T09:05:19.401753Z",
     "start_time": "2025-05-25T09:05:19.384688Z"
    }
   },
   "cell_type": "code",
   "source": "echo_duration(events['times'], stim_stop=150, sim_time=150+1000)",
   "id": "36ab9070735e58e",
   "outputs": [
    {
     "data": {
      "text/plain": [
       "0.0"
      ]
     },
     "execution_count": 63,
     "metadata": {},
     "output_type": "execute_result"
    }
   ],
   "execution_count": 63
  },
  {
   "metadata": {},
   "cell_type": "markdown",
   "source": "## REPORTS",
   "id": "fb30875751676711"
  },
  {
   "metadata": {
    "ExecuteTime": {
     "end_time": "2025-05-25T08:54:21.063380Z",
     "start_time": "2025-05-25T08:54:21.028544Z"
    }
   },
   "cell_type": "code",
   "source": [
    "def echo_duration(times: np.ndarray,\n",
    "                  stim_stop: float,\n",
    "                  sim_time: float,\n",
    "                  quiet_ms: float = 20.0) -> float:\n",
    "    post = times[times > stim_stop]\n",
    "    if post.size == 0:\n",
    "        return 0.0\n",
    "\n",
    "    post_sorted = np.sort(post)\n",
    "    gaps = np.diff(np.append(post_sorted, quiet_ms + sim_time))\n",
    "    end_idx = np.argmax(gaps >= quiet_ms)\n",
    "    echo_end = post_sorted[end_idx]\n",
    "    return echo_end - stim_stop\n"
   ],
   "id": "266225a43a757a74",
   "outputs": [],
   "execution_count": 56
  },
  {
   "metadata": {},
   "cell_type": "code",
   "source": [
    "sim_time = stim_stop + 1000\n",
    "echo_duration(times, sim_time=sim_time)"
   ],
   "id": "87e73b08b4e56a0",
   "outputs": [],
   "execution_count": null
  },
  {
   "metadata": {
    "ExecuteTime": {
     "end_time": "2025-05-25T01:32:35.033403Z",
     "start_time": "2025-05-25T01:32:35.027564Z"
    }
   },
   "cell_type": "code",
   "source": [
    "def spike_matrix(neurons, events: dict,\n",
    "                 sim_time: float, bin_ms: float = 1.0):\n",
    "    senders = events['senders']\n",
    "    times = events['times']\n",
    "\n",
    "    n_neurons = len(neurons)\n",
    "    n_bins = int(np.ceil(sim_time / bin_ms))\n",
    "\n",
    "    X = np.zeros((n_neurons, n_bins), dtype=np.int32)\n",
    "\n",
    "    gid2row = {neurons[i].global_id: i for i in range(n_neurons)}\n",
    "    bin_idx = (times // bin_ms).astype(int)\n",
    "    bin_idx[bin_idx == n_bins] = n_bins - 1        \n",
    "\n",
    "    for gid, b in zip(senders, bin_idx):\n",
    "        X[gid2row[gid], b] += 1\n",
    "\n",
    "    return X, gid2row"
   ],
   "id": "5c0e45aaf31b55e3",
   "outputs": [],
   "execution_count": 16
  },
  {
   "metadata": {
    "ExecuteTime": {
     "end_time": "2025-05-25T01:32:35.519489Z",
     "start_time": "2025-05-25T01:32:35.515075Z"
    }
   },
   "cell_type": "code",
   "source": [
    "def save_activity_matrix(events: dict, neurons,\n",
    "                         sim_time: float, bin_ms: float = 1.0,\n",
    "                         fname: str = 'activity_matrix.csv') -> np.ndarray:\n",
    "    X, _ = spike_matrix(neurons, events, sim_time, bin_ms)\n",
    "    \n",
    "    df = pd.DataFrame(X.T, columns=[f'neuron_{i}' for i in range(X.shape[0])])\n",
    "    df.to_csv(fname, index_label='time_bin')\n",
    "    \n",
    "    print(f'{fname} saved')\n",
    "    return X"
   ],
   "id": "440d53b65ebce7da",
   "outputs": [],
   "execution_count": 17
  },
  {
   "metadata": {
    "ExecuteTime": {
     "end_time": "2025-05-25T01:32:35.985477Z",
     "start_time": "2025-05-25T01:32:35.981141Z"
    }
   },
   "cell_type": "code",
   "source": [
    "def save_adj_matrix(G: nx.DiGraph,\n",
    "                    node_index,\n",
    "                    BASE_W: float = 1.0,\n",
    "                    fname: str = 'adj.csv'):\n",
    "    N = len(node_index)\n",
    "    adj = np.zeros((N, N), dtype=np.float32)\n",
    "    for u, v, d in G.edges(data=True):\n",
    "        sign = -1 if G.nodes[u]['is_inh'] else 1\n",
    "        adj[node_index[u], node_index[v]] = BASE_W * sign * d['weight']\n",
    "    pd.DataFrame(adj,\n",
    "                 index=list(node_index.keys()),\n",
    "                 columns=list(node_index.keys())\n",
    "                ).to_csv(fname)\n",
    "    print(f'{fname} saved')"
   ],
   "id": "3af473a3067140f3",
   "outputs": [],
   "execution_count": 18
  },
  {
   "metadata": {
    "ExecuteTime": {
     "end_time": "2025-05-25T01:32:36.497937Z",
     "start_time": "2025-05-25T01:32:36.493593Z"
    }
   },
   "cell_type": "code",
   "source": [
    "def save_vm_matrix(multimeter, fname: str = 'vm_matrix.csv'):\n",
    "    events = nest.GetStatus(multimeter, 'events')[0]\n",
    "    df = pd.DataFrame({\n",
    "        'time': events['times'],\n",
    "        'sender': events['senders'],\n",
    "        'V_m': events['V_m']\n",
    "    })\n",
    "\n",
    "    pivot_df = df.pivot(index='time', columns='sender', values='V_m')\n",
    "    pivot_df = pivot_df.sort_index()  \n",
    "\n",
    "    pivot_df.to_csv(fname, index_label='time')\n",
    "    print(f'{fname} saved')\n",
    "    return pivot_df"
   ],
   "id": "48f144c3b60ce1cf",
   "outputs": [],
   "execution_count": 19
  },
  {
   "metadata": {
    "ExecuteTime": {
     "end_time": "2025-05-25T01:32:37.720231Z",
     "start_time": "2025-05-25T01:32:37.715959Z"
    }
   },
   "cell_type": "code",
   "source": [
    "def save_activity_by_depth(X, G: nx.DiGraph, node_index, fname: str = \"activity_by_depth.csv\"):\n",
    "    depth_attr = nx.get_node_attributes(G, \"signal_depth\")\n",
    "    records = []\n",
    "    for lvl in sorted(set(depth_attr.values())):\n",
    "        rows = [node_index[n] for n, d in depth_attr.items() if d == lvl]\n",
    "        if not rows:\n",
    "            continue\n",
    "        total = X[rows, :].sum()\n",
    "        records.append({\n",
    "            \"signal_depth\": lvl,\n",
    "            \"total_spikes\": total,\n",
    "            \"mean_spikes\": total / len(rows),\n",
    "            \"n_neurons\": len(rows) })\n",
    "    pd.DataFrame(records).to_csv(fname, index=False)\n",
    "    print(f\"{fname} saved\")"
   ],
   "id": "dbf9551d4e67a0ef",
   "outputs": [],
   "execution_count": 21
  },
  {
   "metadata": {},
   "cell_type": "markdown",
   "source": "## NOT DISCRETE CURRENT",
   "id": "c0cb5448ebbad34"
  },
  {
   "metadata": {
    "ExecuteTime": {
     "end_time": "2025-05-25T01:32:37.303264Z",
     "start_time": "2025-05-25T01:32:37.299238Z"
    }
   },
   "cell_type": "code",
   "outputs": [],
   "execution_count": 20,
   "source": [
    "def report_most_active_neuron(X, node_list: list[int], G: nx.DiGraph):\n",
    "    total_spikes = X.sum(axis=1)\n",
    "    idx_max = int(np.argmax(total_spikes))\n",
    "    nid_max = node_list[idx_max]\n",
    "\n",
    "    print(\"─\" * 40)\n",
    "    print(f\"Most active neuron: {nid_max}\")\n",
    "    print(f\"Total spikes = {total_spikes[idx_max]}\")\n",
    "    print(f\"Signal depth = {G.nodes[nid_max].get('signal_depth')}\")\n",
    "    print(f\"In-degree and out-deg = {G.in_degree(nid_max)} / {G.out_degree(nid_max)}\")\n",
    "    print(f\"Is inhibitory = {G.nodes[nid_max].get('is_inh')}\")\n",
    "    print(f\"Is Input-class neuron = {G.nodes[nid_max].get('is_input')}\")\n",
    "    if nx.has_path(G, nid_max, nid_max):\n",
    "        print(\"Self-loop or cycle detected\")"
   ],
   "id": "76e958c01a89fcd8"
  },
  {
   "metadata": {
    "ExecuteTime": {
     "start_time": "2025-05-25T01:19:17.430086Z"
    }
   },
   "cell_type": "code",
   "outputs": [
    {
     "name": "stdout",
     "output_type": "stream",
     "text": [
      "building graph...\n"
     ]
    }
   ],
   "execution_count": null,
   "source": "G = prepare_graph(conn_mats)",
   "id": "e78b77cb878e455c"
  },
  {
   "metadata": {
    "ExecuteTime": {
     "end_time": "2025-05-25T01:32:40.646764Z",
     "start_time": "2025-05-25T01:32:40.641711Z"
    }
   },
   "cell_type": "code",
   "source": [
    "def build_one_wave_ac_generator(t_start: float, duration: float, amp: float):\n",
    "    freq = 1000.0 / duration\n",
    "    return {\n",
    "        'amplitude': amp,\n",
    "        'offset': amp,\n",
    "        'frequency': freq,\n",
    "        'phase': -90.0,              \n",
    "        'start': t_start,\n",
    "        'stop': t_start + duration\n",
    "    }"
   ],
   "id": "9fc339f292425a0f",
   "outputs": [],
   "execution_count": 22
  },
  {
   "metadata": {
    "ExecuteTime": {
     "end_time": "2025-05-25T01:32:41.192542Z",
     "start_time": "2025-05-25T01:32:41.186947Z"
    }
   },
   "cell_type": "code",
   "source": [
    "def visualize_one_wave(t_start: float, duration_ms: float, amplitude_pA: float):\n",
    "    f = 1000.0 / duration_ms\n",
    "    phi = -90 * np.pi / 180  \n",
    "    t = np.linspace(t_start, t_start + duration_ms, 1000)\n",
    "    I = amplitude_pA * np.sin(2 * np.pi * f * (t / 1000.0) + phi)\n",
    "\n",
    "    plt.figure(figsize=(8, 3))\n",
    "    plt.plot(t, I)\n",
    "    plt.xlabel('time')\n",
    "    plt.ylabel('current')\n",
    "    plt.title(f'one sine wave: {duration_ms} ms, {amplitude_pA} pA')\n",
    "    plt.grid(True)\n",
    "    plt.tight_layout()\n",
    "    plt.show()"
   ],
   "id": "7f946cca1696c3cd",
   "outputs": [],
   "execution_count": 23
  },
  {
   "metadata": {
    "ExecuteTime": {
     "end_time": "2025-05-25T01:37:11.158335Z",
     "start_time": "2025-05-25T01:32:43.119992Z"
    }
   },
   "cell_type": "code",
   "source": [
    "stim_start = 50\n",
    "stim_stop = 800\n",
    "tail = 2000\n",
    "sim_time = stim_stop + tail\n",
    "G = prepare_graph(conn_mats)"
   ],
   "id": "c44244898e8b9f59",
   "outputs": [
    {
     "name": "stdout",
     "output_type": "stream",
     "text": [
      "building graph...\n",
      "Graph: 2952 neurons,with 2952 nodes\n",
      "annotating graph...\n"
     ]
    }
   ],
   "execution_count": 24
  },
  {
   "metadata": {
    "ExecuteTime": {
     "end_time": "2025-05-25T01:37:45.703262Z",
     "start_time": "2025-05-25T01:37:45.688598Z"
    }
   },
   "cell_type": "code",
   "source": [
    "def run_exp_ac_generator(\n",
    "        G: nx.DiGraph,\n",
    "        stim_start: float,\n",
    "        stim_stop: float,\n",
    "        tail: float,\n",
    "        generator_amp: float = 600,\n",
    "        stim_ids: list = None,\n",
    "        base_w: float = 1,\n",
    "        delay: float = 2.5,):\n",
    "    sim_time = stim_stop + tail\n",
    "    \n",
    "    print('creating nest network...')\n",
    "    neurons, node_index = create_nest_network(\n",
    "        G=G, neuron_params=neuron_params, \n",
    "        BASE_W=base_w, DELAY=delay)\n",
    "    spike_recorder = connect_spike_recorder(neurons)\n",
    "    multimeter = connect_multimeter(neurons, interval=0.1)\n",
    "    \n",
    "    if stim_ids is None:                      \n",
    "        stim_ids = get_input_neuron_ids(G)\n",
    "        \n",
    "    print(f'Stimulation of {len(stim_ids)} neurons ')\n",
    "    params = build_one_wave_ac_generator(\n",
    "        t_start=stim_start,\n",
    "        duration_ms=(stim_stop - stim_start),\n",
    "        amplitude_pA=generator_amp\n",
    "    )\n",
    "    print(f'params for ac generator {params}')\n",
    "    ac = nest.Create('ac_generator', params=params)\n",
    "    \n",
    "    for nid in stim_ids:\n",
    "        idx = node_index[nid]\n",
    "        nest.Connect(ac, neurons[idx:idx+1])\n",
    "    \n",
    "    nest.Simulate(sim_time)\n",
    "    \n",
    "    events = nest.GetStatus(spike_recorder, 'events')[0]\n",
    "    return events, multimeter, neurons, node_index "
   ],
   "id": "c68b1509210db4fe",
   "outputs": [],
   "execution_count": 25
  },
  {
   "metadata": {
    "ExecuteTime": {
     "end_time": "2025-05-25T06:58:25.796750Z",
     "start_time": "2025-05-25T06:57:44.982506Z"
    }
   },
   "cell_type": "code",
   "source": [
    "BASE_W, DELAY = 5.9, 2.5\n",
    "STIM_START, STIM_STOP, TAIL = 50, 450, 6000\n",
    "AMP = 800 # реальная амлитуда без учета offset\n",
    "\n",
    "events, multimeter, neurons, node_index = run_exp_ac_generator(G=G, stim_start=STIM_START, stim_stop=STIM_STOP,tail=TAIL, generator_amp=AMP / 2, base_w=BASE_W, delay=DELAY)"
   ],
   "id": "58292db834fa7271",
   "outputs": [
    {
     "name": "stdout",
     "output_type": "stream",
     "text": [
      "creating nest network...\n",
      "Stimulation of 687 neurons \n",
      "params for ac generator {'amplitude': 400.0, 'offset': 400.0, 'frequency': 2.5, 'phase': -90.0, 'start': 50, 'stop': 450}\n",
      "\n",
      "May 25 11:58:14 NodeManager::prepare_nodes [Info]: \n",
      "    Preparing 2955 nodes for simulation.\n",
      "\n",
      "May 25 11:58:14 SimulationManager::start_updating_ [Info]: \n",
      "    Number of local nodes: 2955\n",
      "    Simulation time (ms): 6450\n",
      "    Number of OpenMP threads: 1\n",
      "    Not using MPI\n",
      "\n",
      "May 25 11:58:25 SimulationManager::run [Info]: \n",
      "    Simulation finished.\n"
     ]
    }
   ],
   "execution_count": 49
  },
  {
   "metadata": {
    "ExecuteTime": {
     "end_time": "2025-05-25T06:58:47.237295Z",
     "start_time": "2025-05-25T06:58:47.220421Z"
    }
   },
   "cell_type": "code",
   "source": [
    "TAIL = 6000\n",
    "sim_time = STIM_STOP + TAIL\n",
    "echo_duration(events['times'], sim_time=sim_time)"
   ],
   "id": "fe7f0a62596d0ae1",
   "outputs": [
    {
     "data": {
      "text/plain": [
       "np.float64(5012.3)"
      ]
     },
     "execution_count": 50,
     "metadata": {},
     "output_type": "execute_result"
    }
   ],
   "execution_count": 50
  },
  {
   "metadata": {
    "ExecuteTime": {
     "end_time": "2025-05-25T07:33:22.435218Z",
     "start_time": "2025-05-25T06:59:40.429814Z"
    }
   },
   "cell_type": "code",
   "source": [
    "save_vm_matrix(multimeter)\n",
    "save_activity_matrix(events, neurons, sim_time)\n",
    "print('finished')"
   ],
   "id": "75513f7d824f97bc",
   "outputs": [
    {
     "name": "stdout",
     "output_type": "stream",
     "text": [
      "vm_matrix.csv saved\n",
      "activity_matrix.csv saved\n",
      "finished\n"
     ]
    }
   ],
   "execution_count": 51
  },
  {
   "metadata": {},
   "cell_type": "markdown",
   "source": "## GRAPHS",
   "id": "526513783f92f23b"
  },
  {
   "metadata": {
    "ExecuteTime": {
     "end_time": "2025-05-25T08:55:00.447984Z",
     "start_time": "2025-05-25T08:55:00.427127Z"
    }
   },
   "cell_type": "code",
   "source": [
    "import itertools, os, pandas as pd, numpy as np\n",
    "\n",
    "def one_run_echo(G, amp, dur, stim_start, tail, base_w, delay):\n",
    "    stim_stop = stim_start + dur\n",
    "\n",
    "    events, *_ = run_experiment(G=G, stim_start=stim_start, stim_stop=stim_stop,\n",
    "        tail=tail, generator_amp=amp, BASE_W=base_w, DELAY=delay)\n",
    "\n",
    "    echo = echo_duration(events['times'], stim_stop=stim_stop, sim_time=stim_stop + tail)\n",
    "\n",
    "    del events            \n",
    "    return echo\n",
    "  \n",
    "def echo_amp_dur(G, amp_values, dur_values, stim_start=50, tail=1500, base_w=4.6,\n",
    "                          delay=2.5, out_csv='echo_amp_dur.csv'):\n",
    "    \n",
    "    csv_exists = os.path.isfile(out_csv)\n",
    "    header_needed = not csv_exists\n",
    "\n",
    "    total = len(amp_values) * len(dur_values)\n",
    "    records = []                              \n",
    "\n",
    "    for n, (amp, dur) in enumerate(itertools.product(amp_values, dur_values), 1):\n",
    "        print(f'{n}/{total} iteraton {amp=}, {dur=}')\n",
    "        echo = one_run_echo(G, amp, dur,\n",
    "                            stim_start=stim_start,\n",
    "                            tail=tail,\n",
    "                            base_w=base_w,\n",
    "                            delay=delay)\n",
    "\n",
    "        row = {'amp_pA': amp, 'dur_ms': dur, 'echo_ms': echo}\n",
    "        records.append(row)\n",
    "\n",
    "        pd.DataFrame([row]).to_csv(out_csv,\n",
    "                                   mode='a',\n",
    "                                   header=header_needed,\n",
    "                                   index=False)\n",
    "        header_needed = False                 \n",
    "\n",
    "    return pd.DataFrame(records)"
   ],
   "id": "e19eee8393da5144",
   "outputs": [],
   "execution_count": 57
  },
  {
   "metadata": {
    "ExecuteTime": {
     "end_time": "2025-05-25T08:55:03.057887Z",
     "start_time": "2025-05-25T08:55:03.051889Z"
    }
   },
   "cell_type": "code",
   "source": [
    "amp_grid = np.arange(200, 1300 + 1, 100)\n",
    "dur_grid = np.arange(100, 1300 + 1, 50)  "
   ],
   "id": "55334f99977574e8",
   "outputs": [],
   "execution_count": 58
  },
  {
   "metadata": {},
   "cell_type": "code",
   "source": "df_ad = echo_amp_dur(G, amp_values=amp_grid, dur_values=dur_grid, stim_start=50, tail=30000, base_w=4.6, delay=2.5)",
   "id": "feb1e3fc2fa5df2b",
   "outputs": [],
   "execution_count": null
  },
  {
   "metadata": {
    "ExecuteTime": {
     "end_time": "2025-05-25T06:52:31.352173Z",
     "start_time": "2025-05-25T06:52:31.327551Z"
    }
   },
   "cell_type": "code",
   "source": [
    "def best_amp_dur(csv_path='echo_amp_dur.csv'):\n",
    "    df = pd.read_csv(csv_path)\n",
    "    row = df.loc[df['echo_ms'].idxmax()]\n",
    "    return float(row['amp_pA']), float(row['dur_ms'])\n",
    "\n",
    "def echo_weight(G, w_values, amp, dur, stim_start=50, tail=1500, delay=2.5, out_csv='echo_w.csv'):\n",
    "    records = []\n",
    "    for w in w_values:\n",
    "        print(f'{w=}')\n",
    "        echo = one_run_echo(G, amp, dur, stim_start, tail, w, delay)\n",
    "        records.append({'BASE_W': w, 'echo_ms': echo})\n",
    "    pd.DataFrame(records).to_csv(out_csv, index=False)"
   ],
   "id": "6b1f43ba688c931b",
   "outputs": [],
   "execution_count": 45
  },
  {
   "metadata": {
    "ExecuteTime": {
     "end_time": "2025-05-25T08:46:34.308485Z",
     "start_time": "2025-05-25T08:44:40.639984Z"
    }
   },
   "cell_type": "code",
   "source": [
    "best_amp, best_dur = best_amp_dur('echo_amp_dur.csv')\n",
    "\n",
    "w_grid = np.linspace(1.0, 10.0, 20)  # 1 … 10\n",
    "echo_weight(G, w_values=w_grid, amp=best_amp, dur=best_dur, stim_start=50, tail=30000, delay=2.5, out_csv='echo_w.csv')"
   ],
   "id": "d3a55d0eee00cacb",
   "outputs": [
    {
     "name": "stdout",
     "output_type": "stream",
     "text": [
      "BASE_W = 1.0\n",
      "creating nest network...\n",
      "Stimulation of 687 neurons \n",
      "\n",
      "May 25 13:45:15 NodeManager::prepare_nodes [Info]: \n",
      "    Preparing 2955 nodes for simulation.\n",
      "\n",
      "May 25 13:45:15 SimulationManager::start_updating_ [Info]: \n",
      "    Number of local nodes: 2955\n",
      "    Simulation time (ms): 31300\n",
      "    Number of OpenMP threads: 1\n",
      "    Not using MPI\n",
      "\n",
      "May 25 13:45:39 SimulationManager::run [Info]: \n",
      "    Simulation finished.\n",
      "BASE_W = 1.4736842105263157\n",
      "creating nest network...\n",
      "Stimulation of 687 neurons \n",
      "\n",
      "May 25 13:46:10 NodeManager::prepare_nodes [Info]: \n",
      "    Preparing 2955 nodes for simulation.\n",
      "\n",
      "May 25 13:46:10 SimulationManager::start_updating_ [Info]: \n",
      "    Number of local nodes: 2955\n",
      "    Simulation time (ms): 31300\n",
      "    Number of OpenMP threads: 1\n",
      "    Not using MPI\n",
      "\n",
      "May 25 13:46:34 SimulationManager::run [Info]: \n",
      "    Simulation finished.\n"
     ]
    },
    {
     "ename": "KeyboardInterrupt",
     "evalue": "",
     "output_type": "error",
     "traceback": [
      "\u001B[0;31m---------------------------------------------------------------------------\u001B[0m",
      "\u001B[0;31mKeyboardInterrupt\u001B[0m                         Traceback (most recent call last)",
      "Cell \u001B[0;32mIn[52], line 4\u001B[0m\n\u001B[1;32m      1\u001B[0m best_amp, best_dur \u001B[38;5;241m=\u001B[39m best_amp_dur(\u001B[38;5;124m\"\u001B[39m\u001B[38;5;124mecho_amp_dur.csv\u001B[39m\u001B[38;5;124m\"\u001B[39m)\n\u001B[1;32m      3\u001B[0m w_grid \u001B[38;5;241m=\u001B[39m np\u001B[38;5;241m.\u001B[39mlinspace(\u001B[38;5;241m1.0\u001B[39m, \u001B[38;5;241m10.0\u001B[39m, \u001B[38;5;241m20\u001B[39m)  \u001B[38;5;66;03m# 1 … 10\u001B[39;00m\n\u001B[0;32m----> 4\u001B[0m \u001B[43msweep_echo_vs_weight\u001B[49m\u001B[43m(\u001B[49m\u001B[43mG\u001B[49m\u001B[43m,\u001B[49m\n\u001B[1;32m      5\u001B[0m \u001B[43m                     \u001B[49m\u001B[43mw_values\u001B[49m\u001B[38;5;241;43m=\u001B[39;49m\u001B[43mw_grid\u001B[49m\u001B[43m,\u001B[49m\n\u001B[1;32m      6\u001B[0m \u001B[43m                     \u001B[49m\u001B[43mamp\u001B[49m\u001B[38;5;241;43m=\u001B[39;49m\u001B[43mbest_amp\u001B[49m\u001B[43m,\u001B[49m\n\u001B[1;32m      7\u001B[0m \u001B[43m                     \u001B[49m\u001B[43mdur\u001B[49m\u001B[38;5;241;43m=\u001B[39;49m\u001B[43mbest_dur\u001B[49m\u001B[43m,\u001B[49m\n\u001B[1;32m      8\u001B[0m \u001B[43m                     \u001B[49m\u001B[43mstim_start\u001B[49m\u001B[38;5;241;43m=\u001B[39;49m\u001B[38;5;241;43m50\u001B[39;49m\u001B[43m,\u001B[49m\n\u001B[1;32m      9\u001B[0m \u001B[43m                     \u001B[49m\u001B[43mtail\u001B[49m\u001B[38;5;241;43m=\u001B[39;49m\u001B[38;5;241;43m30000\u001B[39;49m\u001B[43m,\u001B[49m\n\u001B[1;32m     10\u001B[0m \u001B[43m                     \u001B[49m\u001B[43mdelay\u001B[49m\u001B[38;5;241;43m=\u001B[39;49m\u001B[38;5;241;43m2.5\u001B[39;49m\u001B[43m,\u001B[49m\n\u001B[1;32m     11\u001B[0m \u001B[43m                     \u001B[49m\u001B[43mout_csv\u001B[49m\u001B[38;5;241;43m=\u001B[39;49m\u001B[38;5;124;43m\"\u001B[39;49m\u001B[38;5;124;43mecho_vs_w.csv\u001B[39;49m\u001B[38;5;124;43m\"\u001B[39;49m\u001B[43m)\u001B[49m\n",
      "Cell \u001B[0;32mIn[45], line 16\u001B[0m, in \u001B[0;36msweep_echo_vs_weight\u001B[0;34m(G, w_values, amp, dur, stim_start, tail, delay, out_csv)\u001B[0m\n\u001B[1;32m     14\u001B[0m \u001B[38;5;28;01mfor\u001B[39;00m w \u001B[38;5;129;01min\u001B[39;00m w_values:\n\u001B[1;32m     15\u001B[0m     \u001B[38;5;28mprint\u001B[39m(\u001B[38;5;124mf\u001B[39m\u001B[38;5;124m\"\u001B[39m\u001B[38;5;124mBASE_W = \u001B[39m\u001B[38;5;132;01m{\u001B[39;00mw\u001B[38;5;132;01m}\u001B[39;00m\u001B[38;5;124m\"\u001B[39m)\n\u001B[0;32m---> 16\u001B[0m     echo \u001B[38;5;241m=\u001B[39m \u001B[43mone_run_echo\u001B[49m\u001B[43m(\u001B[49m\u001B[43mG\u001B[49m\u001B[43m,\u001B[49m\u001B[43m \u001B[49m\u001B[43mamp\u001B[49m\u001B[43m,\u001B[49m\u001B[43m \u001B[49m\u001B[43mdur\u001B[49m\u001B[43m,\u001B[49m\u001B[43m \u001B[49m\u001B[43mstim_start\u001B[49m\u001B[43m,\u001B[49m\u001B[43m \u001B[49m\u001B[43mtail\u001B[49m\u001B[43m,\u001B[49m\u001B[43m \u001B[49m\u001B[43mw\u001B[49m\u001B[43m,\u001B[49m\u001B[43m \u001B[49m\u001B[43mdelay\u001B[49m\u001B[43m)\u001B[49m\n\u001B[1;32m     17\u001B[0m     records\u001B[38;5;241m.\u001B[39mappend({\u001B[38;5;124m\"\u001B[39m\u001B[38;5;124mBASE_W\u001B[39m\u001B[38;5;124m\"\u001B[39m: w, \u001B[38;5;124m\"\u001B[39m\u001B[38;5;124mecho_ms\u001B[39m\u001B[38;5;124m\"\u001B[39m: echo})\n\u001B[1;32m     18\u001B[0m pd\u001B[38;5;241m.\u001B[39mDataFrame(records)\u001B[38;5;241m.\u001B[39mto_csv(out_csv, index\u001B[38;5;241m=\u001B[39m\u001B[38;5;28;01mFalse\u001B[39;00m)\n",
      "Cell \u001B[0;32mIn[42], line 10\u001B[0m, in \u001B[0;36mone_run_echo\u001B[0;34m(G, amp, dur, stim_start, tail, base_w, delay)\u001B[0m\n\u001B[1;32m      7\u001B[0m stim_stop \u001B[38;5;241m=\u001B[39m stim_start \u001B[38;5;241m+\u001B[39m dur\n\u001B[1;32m      9\u001B[0m \u001B[38;5;66;03m# ← создаём сеть, запускаем симуляцию\u001B[39;00m\n\u001B[0;32m---> 10\u001B[0m events, \u001B[38;5;241m*\u001B[39m_ \u001B[38;5;241m=\u001B[39m \u001B[43mrun_experiment\u001B[49m\u001B[43m(\u001B[49m\n\u001B[1;32m     11\u001B[0m \u001B[43m    \u001B[49m\u001B[43mG\u001B[49m\u001B[38;5;241;43m=\u001B[39;49m\u001B[43mG\u001B[49m\u001B[43m,\u001B[49m\n\u001B[1;32m     12\u001B[0m \u001B[43m    \u001B[49m\u001B[43mstim_start\u001B[49m\u001B[38;5;241;43m=\u001B[39;49m\u001B[43mstim_start\u001B[49m\u001B[43m,\u001B[49m\n\u001B[1;32m     13\u001B[0m \u001B[43m    \u001B[49m\u001B[43mstim_stop\u001B[49m\u001B[38;5;241;43m=\u001B[39;49m\u001B[43mstim_stop\u001B[49m\u001B[43m,\u001B[49m\n\u001B[1;32m     14\u001B[0m \u001B[43m    \u001B[49m\u001B[43mtail\u001B[49m\u001B[38;5;241;43m=\u001B[39;49m\u001B[43mtail\u001B[49m\u001B[43m,\u001B[49m\n\u001B[1;32m     15\u001B[0m \u001B[43m    \u001B[49m\u001B[43mgenerator_amp\u001B[49m\u001B[38;5;241;43m=\u001B[39;49m\u001B[43mamp\u001B[49m\u001B[43m,\u001B[49m\n\u001B[1;32m     16\u001B[0m \u001B[43m    \u001B[49m\u001B[43mBASE_W\u001B[49m\u001B[38;5;241;43m=\u001B[39;49m\u001B[43mbase_w\u001B[49m\u001B[43m,\u001B[49m\n\u001B[1;32m     17\u001B[0m \u001B[43m    \u001B[49m\u001B[43mDELAY\u001B[49m\u001B[38;5;241;43m=\u001B[39;49m\u001B[43mdelay\u001B[49m\u001B[43m)\u001B[49m\n\u001B[1;32m     19\u001B[0m \u001B[38;5;66;03m# ← считаем длительность эха\u001B[39;00m\n\u001B[1;32m     20\u001B[0m echo \u001B[38;5;241m=\u001B[39m echo_duration(events[\u001B[38;5;124m\"\u001B[39m\u001B[38;5;124mtimes\u001B[39m\u001B[38;5;124m\"\u001B[39m], sim_time\u001B[38;5;241m=\u001B[39mstim_stop \u001B[38;5;241m+\u001B[39m tail)\n",
      "Cell \u001B[0;32mIn[14], line 32\u001B[0m, in \u001B[0;36mrun_experiment\u001B[0;34m(G, stim_start, stim_stop, tail, generator_amp, stim_ids, BASE_W, DELAY)\u001B[0m\n\u001B[1;32m     22\u001B[0m \u001B[38;5;28mprint\u001B[39m(\u001B[38;5;124mf\u001B[39m\u001B[38;5;124m\"\u001B[39m\u001B[38;5;124mStimulation of \u001B[39m\u001B[38;5;132;01m{\u001B[39;00m\u001B[38;5;28mlen\u001B[39m(stim_ids)\u001B[38;5;132;01m}\u001B[39;00m\u001B[38;5;124m neurons \u001B[39m\u001B[38;5;124m\"\u001B[39m)\n\u001B[1;32m     23\u001B[0m connect_dc_generator(\n\u001B[1;32m     24\u001B[0m     stim_ids\u001B[38;5;241m=\u001B[39mstim_ids, \n\u001B[1;32m     25\u001B[0m     neurons\u001B[38;5;241m=\u001B[39mneurons,\n\u001B[0;32m   (...)\u001B[0m\n\u001B[1;32m     29\u001B[0m     stop\u001B[38;5;241m=\u001B[39mstim_stop\n\u001B[1;32m     30\u001B[0m )\n\u001B[0;32m---> 32\u001B[0m \u001B[43mnest\u001B[49m\u001B[38;5;241;43m.\u001B[39;49m\u001B[43mSimulate\u001B[49m\u001B[43m(\u001B[49m\u001B[43msim_time\u001B[49m\u001B[43m)\u001B[49m\n\u001B[1;32m     34\u001B[0m events \u001B[38;5;241m=\u001B[39m nest\u001B[38;5;241m.\u001B[39mGetStatus(spike_recorder, \u001B[38;5;124m\"\u001B[39m\u001B[38;5;124mevents\u001B[39m\u001B[38;5;124m\"\u001B[39m)[\u001B[38;5;241m0\u001B[39m]\n\u001B[1;32m     35\u001B[0m \u001B[38;5;28;01mreturn\u001B[39;00m events, multimeter, neurons, node_index\n",
      "File \u001B[0;32m~/miniconda3/envs/cde_py39/lib/python3.9/site-packages/nest/ll_api.py:216\u001B[0m, in \u001B[0;36mstack_checker.<locals>.stack_checker_func\u001B[0;34m(*args, **kwargs)\u001B[0m\n\u001B[1;32m    213\u001B[0m \u001B[38;5;129m@functools\u001B[39m\u001B[38;5;241m.\u001B[39mwraps(f)\n\u001B[1;32m    214\u001B[0m \u001B[38;5;28;01mdef\u001B[39;00m\u001B[38;5;250m \u001B[39m\u001B[38;5;21mstack_checker_func\u001B[39m(\u001B[38;5;241m*\u001B[39margs, \u001B[38;5;241m*\u001B[39m\u001B[38;5;241m*\u001B[39mkwargs):\n\u001B[1;32m    215\u001B[0m     \u001B[38;5;28;01mif\u001B[39;00m \u001B[38;5;129;01mnot\u001B[39;00m get_debug():\n\u001B[0;32m--> 216\u001B[0m         \u001B[38;5;28;01mreturn\u001B[39;00m \u001B[43mf\u001B[49m\u001B[43m(\u001B[49m\u001B[38;5;241;43m*\u001B[39;49m\u001B[43margs\u001B[49m\u001B[43m,\u001B[49m\u001B[43m \u001B[49m\u001B[38;5;241;43m*\u001B[39;49m\u001B[38;5;241;43m*\u001B[39;49m\u001B[43mkwargs\u001B[49m\u001B[43m)\u001B[49m\n\u001B[1;32m    217\u001B[0m     \u001B[38;5;28;01melse\u001B[39;00m:\n\u001B[1;32m    218\u001B[0m         sr(\u001B[38;5;124m\"\u001B[39m\u001B[38;5;124mcount\u001B[39m\u001B[38;5;124m\"\u001B[39m)\n",
      "File \u001B[0;32m~/miniconda3/envs/cde_py39/lib/python3.9/site-packages/nest/lib/hl_api_simulation.py:65\u001B[0m, in \u001B[0;36mSimulate\u001B[0;34m(t)\u001B[0m\n\u001B[1;32m     49\u001B[0m \u001B[38;5;250m\u001B[39m\u001B[38;5;124;03m\"\"\"Simulate the network for `t` milliseconds.\u001B[39;00m\n\u001B[1;32m     50\u001B[0m \n\u001B[1;32m     51\u001B[0m \u001B[38;5;124;03m`Simulate(t)` runs `Prepare()`, `Run(t)`, and `Cleanup()` in this order.\u001B[39;00m\n\u001B[0;32m   (...)\u001B[0m\n\u001B[1;32m     61\u001B[0m \n\u001B[1;32m     62\u001B[0m \u001B[38;5;124;03m\"\"\"\u001B[39;00m\n\u001B[1;32m     64\u001B[0m sps(\u001B[38;5;28mfloat\u001B[39m(t))\n\u001B[0;32m---> 65\u001B[0m \u001B[43msr\u001B[49m\u001B[43m(\u001B[49m\u001B[38;5;124;43m\"\u001B[39;49m\u001B[38;5;124;43mms Simulate\u001B[39;49m\u001B[38;5;124;43m\"\u001B[39;49m\u001B[43m)\u001B[49m\n",
      "File \u001B[0;32m~/miniconda3/envs/cde_py39/lib/python3.9/site-packages/nest/ll_api.py:95\u001B[0m, in \u001B[0;36mcatching_sli_run\u001B[0;34m(cmd)\u001B[0m\n\u001B[1;32m     81\u001B[0m \u001B[38;5;28;01mdef\u001B[39;00m\u001B[38;5;250m \u001B[39m\u001B[38;5;21mcatching_sli_run\u001B[39m(cmd):\n\u001B[1;32m     82\u001B[0m \u001B[38;5;250m    \u001B[39m\u001B[38;5;124;03m\"\"\"Send a command string to the NEST kernel to be executed, catch\u001B[39;00m\n\u001B[1;32m     83\u001B[0m \u001B[38;5;124;03m    SLI errors and re-raise them in Python.\u001B[39;00m\n\u001B[1;32m     84\u001B[0m \n\u001B[0;32m   (...)\u001B[0m\n\u001B[1;32m     92\u001B[0m \u001B[38;5;124;03m        SLI errors are bubbled to the Python API as NESTErrors.\u001B[39;00m\n\u001B[1;32m     93\u001B[0m \u001B[38;5;124;03m    \"\"\"\u001B[39;00m\n\u001B[0;32m---> 95\u001B[0m     \u001B[43mengine\u001B[49m\u001B[38;5;241;43m.\u001B[39;49m\u001B[43mrun\u001B[49m\u001B[43m(\u001B[49m\u001B[38;5;124;43m\"\u001B[39;49m\u001B[38;5;124;43m{\u001B[39;49m\u001B[38;5;132;43;01m%s\u001B[39;49;00m\u001B[38;5;124;43m} runprotected\u001B[39;49m\u001B[38;5;124;43m\"\u001B[39;49m\u001B[43m \u001B[49m\u001B[38;5;241;43m%\u001B[39;49m\u001B[43m \u001B[49m\u001B[43mcmd\u001B[49m\u001B[43m)\u001B[49m\n\u001B[1;32m     96\u001B[0m     \u001B[38;5;28;01mif\u001B[39;00m \u001B[38;5;129;01mnot\u001B[39;00m sli_pop():\n\u001B[1;32m     97\u001B[0m         errorname \u001B[38;5;241m=\u001B[39m sli_pop()\n",
      "\u001B[0;31mKeyboardInterrupt\u001B[0m: "
     ]
    }
   ],
   "execution_count": 52
  },
  {
   "metadata": {
    "ExecuteTime": {
     "end_time": "2025-05-25T06:57:44.797845Z",
     "start_time": "2025-05-25T06:57:44.476732Z"
    }
   },
   "cell_type": "code",
   "source": [
    "import matplotlib.pyplot as plt\n",
    "\n",
    "df = pd.read_csv('echo_amp_dur.csv')\n",
    "fig = plt.figure()\n",
    "ax = fig.add_subplot(111, projection='3d')\n",
    "ax.plot_trisurf(df['amp_pA'], df['dur_ms'], df['echo_ms'],\n",
    "                cmap='viridis', linewidth=0.2)\n",
    "ax.set_xlabel('Amplitude (pA)')\n",
    "ax.set_ylabel('Duration (ms)')\n",
    "ax.set_zlabel('Echo (ms)')\n",
    "plt.title('Echo duration vs amplitude and duration')\n",
    "plt.tight_layout()\n",
    "plt.show()"
   ],
   "id": "ad9e163d8910e97f",
   "outputs": [
    {
     "data": {
      "text/plain": [
       "<Figure size 640x480 with 1 Axes>"
      ],
      "image/png": "[encoded data removed]"
     },
     "metadata": {},
     "output_type": "display_data"
    }
   ],
   "execution_count": 47
  },
  {
   "metadata": {
    "ExecuteTime": {
     "end_time": "2025-05-25T09:19:14.040802Z",
     "start_time": "2025-05-25T09:19:13.929054Z"
    }
   },
   "cell_type": "code",
   "source": [
    "df_w = pd.read_csv('echo_vs_w.csv')\n",
    "plt.figure()\n",
    "plt.plot(df_w['BASE_W'], df_w['echo_ms'], marker='o')\n",
    "plt.xlabel('BASE_W')\n",
    "plt.ylabel('Echo duration (ms)')\n",
    "plt.title('Echo vs BASE_W')\n",
    "plt.grid(True)\n",
    "plt.tight_layout()\n",
    "plt.show()"
   ],
   "id": "e912bc6540f5cc75",
   "outputs": [
    {
     "ename": "FileNotFoundError",
     "evalue": "[Errno 2] No such file or directory: 'echo_w.csv'",
     "output_type": "error",
     "traceback": [
      "\u001B[0;31m---------------------------------------------------------------------------\u001B[0m",
      "\u001B[0;31mFileNotFoundError\u001B[0m                         Traceback (most recent call last)",
      "Cell \u001B[0;32mIn[64], line 1\u001B[0m\n\u001B[0;32m----> 1\u001B[0m df_w \u001B[38;5;241m=\u001B[39m \u001B[43mpd\u001B[49m\u001B[38;5;241;43m.\u001B[39;49m\u001B[43mread_csv\u001B[49m\u001B[43m(\u001B[49m\u001B[38;5;124;43m'\u001B[39;49m\u001B[38;5;124;43mecho_w.csv\u001B[39;49m\u001B[38;5;124;43m'\u001B[39;49m\u001B[43m)\u001B[49m\n\u001B[1;32m      2\u001B[0m plt\u001B[38;5;241m.\u001B[39mfigure()\n\u001B[1;32m      3\u001B[0m plt\u001B[38;5;241m.\u001B[39mplot(df_w[\u001B[38;5;124m'\u001B[39m\u001B[38;5;124mBASE_W\u001B[39m\u001B[38;5;124m'\u001B[39m], df_w[\u001B[38;5;124m'\u001B[39m\u001B[38;5;124mecho_ms\u001B[39m\u001B[38;5;124m'\u001B[39m], marker\u001B[38;5;241m=\u001B[39m\u001B[38;5;124m'\u001B[39m\u001B[38;5;124mo\u001B[39m\u001B[38;5;124m'\u001B[39m)\n",
      "File \u001B[0;32m~/miniconda3/envs/cde_py39/lib/python3.9/site-packages/pandas/io/parsers/readers.py:1026\u001B[0m, in \u001B[0;36mread_csv\u001B[0;34m(filepath_or_buffer, sep, delimiter, header, names, index_col, usecols, dtype, engine, converters, true_values, false_values, skipinitialspace, skiprows, skipfooter, nrows, na_values, keep_default_na, na_filter, verbose, skip_blank_lines, parse_dates, infer_datetime_format, keep_date_col, date_parser, date_format, dayfirst, cache_dates, iterator, chunksize, compression, thousands, decimal, lineterminator, quotechar, quoting, doublequote, escapechar, comment, encoding, encoding_errors, dialect, on_bad_lines, delim_whitespace, low_memory, memory_map, float_precision, storage_options, dtype_backend)\u001B[0m\n\u001B[1;32m   1013\u001B[0m kwds_defaults \u001B[38;5;241m=\u001B[39m _refine_defaults_read(\n\u001B[1;32m   1014\u001B[0m     dialect,\n\u001B[1;32m   1015\u001B[0m     delimiter,\n\u001B[0;32m   (...)\u001B[0m\n\u001B[1;32m   1022\u001B[0m     dtype_backend\u001B[38;5;241m=\u001B[39mdtype_backend,\n\u001B[1;32m   1023\u001B[0m )\n\u001B[1;32m   1024\u001B[0m kwds\u001B[38;5;241m.\u001B[39mupdate(kwds_defaults)\n\u001B[0;32m-> 1026\u001B[0m \u001B[38;5;28;01mreturn\u001B[39;00m \u001B[43m_read\u001B[49m\u001B[43m(\u001B[49m\u001B[43mfilepath_or_buffer\u001B[49m\u001B[43m,\u001B[49m\u001B[43m \u001B[49m\u001B[43mkwds\u001B[49m\u001B[43m)\u001B[49m\n",
      "File \u001B[0;32m~/miniconda3/envs/cde_py39/lib/python3.9/site-packages/pandas/io/parsers/readers.py:620\u001B[0m, in \u001B[0;36m_read\u001B[0;34m(filepath_or_buffer, kwds)\u001B[0m\n\u001B[1;32m    617\u001B[0m _validate_names(kwds\u001B[38;5;241m.\u001B[39mget(\u001B[38;5;124m\"\u001B[39m\u001B[38;5;124mnames\u001B[39m\u001B[38;5;124m\"\u001B[39m, \u001B[38;5;28;01mNone\u001B[39;00m))\n\u001B[1;32m    619\u001B[0m \u001B[38;5;66;03m# Create the parser.\u001B[39;00m\n\u001B[0;32m--> 620\u001B[0m parser \u001B[38;5;241m=\u001B[39m \u001B[43mTextFileReader\u001B[49m\u001B[43m(\u001B[49m\u001B[43mfilepath_or_buffer\u001B[49m\u001B[43m,\u001B[49m\u001B[43m \u001B[49m\u001B[38;5;241;43m*\u001B[39;49m\u001B[38;5;241;43m*\u001B[39;49m\u001B[43mkwds\u001B[49m\u001B[43m)\u001B[49m\n\u001B[1;32m    622\u001B[0m \u001B[38;5;28;01mif\u001B[39;00m chunksize \u001B[38;5;129;01mor\u001B[39;00m iterator:\n\u001B[1;32m    623\u001B[0m     \u001B[38;5;28;01mreturn\u001B[39;00m parser\n",
      "File \u001B[0;32m~/miniconda3/envs/cde_py39/lib/python3.9/site-packages/pandas/io/parsers/readers.py:1620\u001B[0m, in \u001B[0;36mTextFileReader.__init__\u001B[0;34m(self, f, engine, **kwds)\u001B[0m\n\u001B[1;32m   1617\u001B[0m     \u001B[38;5;28mself\u001B[39m\u001B[38;5;241m.\u001B[39moptions[\u001B[38;5;124m\"\u001B[39m\u001B[38;5;124mhas_index_names\u001B[39m\u001B[38;5;124m\"\u001B[39m] \u001B[38;5;241m=\u001B[39m kwds[\u001B[38;5;124m\"\u001B[39m\u001B[38;5;124mhas_index_names\u001B[39m\u001B[38;5;124m\"\u001B[39m]\n\u001B[1;32m   1619\u001B[0m \u001B[38;5;28mself\u001B[39m\u001B[38;5;241m.\u001B[39mhandles: IOHandles \u001B[38;5;241m|\u001B[39m \u001B[38;5;28;01mNone\u001B[39;00m \u001B[38;5;241m=\u001B[39m \u001B[38;5;28;01mNone\u001B[39;00m\n\u001B[0;32m-> 1620\u001B[0m \u001B[38;5;28mself\u001B[39m\u001B[38;5;241m.\u001B[39m_engine \u001B[38;5;241m=\u001B[39m \u001B[38;5;28;43mself\u001B[39;49m\u001B[38;5;241;43m.\u001B[39;49m\u001B[43m_make_engine\u001B[49m\u001B[43m(\u001B[49m\u001B[43mf\u001B[49m\u001B[43m,\u001B[49m\u001B[43m \u001B[49m\u001B[38;5;28;43mself\u001B[39;49m\u001B[38;5;241;43m.\u001B[39;49m\u001B[43mengine\u001B[49m\u001B[43m)\u001B[49m\n",
      "File \u001B[0;32m~/miniconda3/envs/cde_py39/lib/python3.9/site-packages/pandas/io/parsers/readers.py:1880\u001B[0m, in \u001B[0;36mTextFileReader._make_engine\u001B[0;34m(self, f, engine)\u001B[0m\n\u001B[1;32m   1878\u001B[0m     \u001B[38;5;28;01mif\u001B[39;00m \u001B[38;5;124m\"\u001B[39m\u001B[38;5;124mb\u001B[39m\u001B[38;5;124m\"\u001B[39m \u001B[38;5;129;01mnot\u001B[39;00m \u001B[38;5;129;01min\u001B[39;00m mode:\n\u001B[1;32m   1879\u001B[0m         mode \u001B[38;5;241m+\u001B[39m\u001B[38;5;241m=\u001B[39m \u001B[38;5;124m\"\u001B[39m\u001B[38;5;124mb\u001B[39m\u001B[38;5;124m\"\u001B[39m\n\u001B[0;32m-> 1880\u001B[0m \u001B[38;5;28mself\u001B[39m\u001B[38;5;241m.\u001B[39mhandles \u001B[38;5;241m=\u001B[39m \u001B[43mget_handle\u001B[49m\u001B[43m(\u001B[49m\n\u001B[1;32m   1881\u001B[0m \u001B[43m    \u001B[49m\u001B[43mf\u001B[49m\u001B[43m,\u001B[49m\n\u001B[1;32m   1882\u001B[0m \u001B[43m    \u001B[49m\u001B[43mmode\u001B[49m\u001B[43m,\u001B[49m\n\u001B[1;32m   1883\u001B[0m \u001B[43m    \u001B[49m\u001B[43mencoding\u001B[49m\u001B[38;5;241;43m=\u001B[39;49m\u001B[38;5;28;43mself\u001B[39;49m\u001B[38;5;241;43m.\u001B[39;49m\u001B[43moptions\u001B[49m\u001B[38;5;241;43m.\u001B[39;49m\u001B[43mget\u001B[49m\u001B[43m(\u001B[49m\u001B[38;5;124;43m\"\u001B[39;49m\u001B[38;5;124;43mencoding\u001B[39;49m\u001B[38;5;124;43m\"\u001B[39;49m\u001B[43m,\u001B[49m\u001B[43m \u001B[49m\u001B[38;5;28;43;01mNone\u001B[39;49;00m\u001B[43m)\u001B[49m\u001B[43m,\u001B[49m\n\u001B[1;32m   1884\u001B[0m \u001B[43m    \u001B[49m\u001B[43mcompression\u001B[49m\u001B[38;5;241;43m=\u001B[39;49m\u001B[38;5;28;43mself\u001B[39;49m\u001B[38;5;241;43m.\u001B[39;49m\u001B[43moptions\u001B[49m\u001B[38;5;241;43m.\u001B[39;49m\u001B[43mget\u001B[49m\u001B[43m(\u001B[49m\u001B[38;5;124;43m\"\u001B[39;49m\u001B[38;5;124;43mcompression\u001B[39;49m\u001B[38;5;124;43m\"\u001B[39;49m\u001B[43m,\u001B[49m\u001B[43m \u001B[49m\u001B[38;5;28;43;01mNone\u001B[39;49;00m\u001B[43m)\u001B[49m\u001B[43m,\u001B[49m\n\u001B[1;32m   1885\u001B[0m \u001B[43m    \u001B[49m\u001B[43mmemory_map\u001B[49m\u001B[38;5;241;43m=\u001B[39;49m\u001B[38;5;28;43mself\u001B[39;49m\u001B[38;5;241;43m.\u001B[39;49m\u001B[43moptions\u001B[49m\u001B[38;5;241;43m.\u001B[39;49m\u001B[43mget\u001B[49m\u001B[43m(\u001B[49m\u001B[38;5;124;43m\"\u001B[39;49m\u001B[38;5;124;43mmemory_map\u001B[39;49m\u001B[38;5;124;43m\"\u001B[39;49m\u001B[43m,\u001B[49m\u001B[43m \u001B[49m\u001B[38;5;28;43;01mFalse\u001B[39;49;00m\u001B[43m)\u001B[49m\u001B[43m,\u001B[49m\n\u001B[1;32m   1886\u001B[0m \u001B[43m    \u001B[49m\u001B[43mis_text\u001B[49m\u001B[38;5;241;43m=\u001B[39;49m\u001B[43mis_text\u001B[49m\u001B[43m,\u001B[49m\n\u001B[1;32m   1887\u001B[0m \u001B[43m    \u001B[49m\u001B[43merrors\u001B[49m\u001B[38;5;241;43m=\u001B[39;49m\u001B[38;5;28;43mself\u001B[39;49m\u001B[38;5;241;43m.\u001B[39;49m\u001B[43moptions\u001B[49m\u001B[38;5;241;43m.\u001B[39;49m\u001B[43mget\u001B[49m\u001B[43m(\u001B[49m\u001B[38;5;124;43m\"\u001B[39;49m\u001B[38;5;124;43mencoding_errors\u001B[39;49m\u001B[38;5;124;43m\"\u001B[39;49m\u001B[43m,\u001B[49m\u001B[43m \u001B[49m\u001B[38;5;124;43m\"\u001B[39;49m\u001B[38;5;124;43mstrict\u001B[39;49m\u001B[38;5;124;43m\"\u001B[39;49m\u001B[43m)\u001B[49m\u001B[43m,\u001B[49m\n\u001B[1;32m   1888\u001B[0m \u001B[43m    \u001B[49m\u001B[43mstorage_options\u001B[49m\u001B[38;5;241;43m=\u001B[39;49m\u001B[38;5;28;43mself\u001B[39;49m\u001B[38;5;241;43m.\u001B[39;49m\u001B[43moptions\u001B[49m\u001B[38;5;241;43m.\u001B[39;49m\u001B[43mget\u001B[49m\u001B[43m(\u001B[49m\u001B[38;5;124;43m\"\u001B[39;49m\u001B[38;5;124;43mstorage_options\u001B[39;49m\u001B[38;5;124;43m\"\u001B[39;49m\u001B[43m,\u001B[49m\u001B[43m \u001B[49m\u001B[38;5;28;43;01mNone\u001B[39;49;00m\u001B[43m)\u001B[49m\u001B[43m,\u001B[49m\n\u001B[1;32m   1889\u001B[0m \u001B[43m\u001B[49m\u001B[43m)\u001B[49m\n\u001B[1;32m   1890\u001B[0m \u001B[38;5;28;01massert\u001B[39;00m \u001B[38;5;28mself\u001B[39m\u001B[38;5;241m.\u001B[39mhandles \u001B[38;5;129;01mis\u001B[39;00m \u001B[38;5;129;01mnot\u001B[39;00m \u001B[38;5;28;01mNone\u001B[39;00m\n\u001B[1;32m   1891\u001B[0m f \u001B[38;5;241m=\u001B[39m \u001B[38;5;28mself\u001B[39m\u001B[38;5;241m.\u001B[39mhandles\u001B[38;5;241m.\u001B[39mhandle\n",
      "File \u001B[0;32m~/miniconda3/envs/cde_py39/lib/python3.9/site-packages/pandas/io/common.py:873\u001B[0m, in \u001B[0;36mget_handle\u001B[0;34m(path_or_buf, mode, encoding, compression, memory_map, is_text, errors, storage_options)\u001B[0m\n\u001B[1;32m    868\u001B[0m \u001B[38;5;28;01melif\u001B[39;00m \u001B[38;5;28misinstance\u001B[39m(handle, \u001B[38;5;28mstr\u001B[39m):\n\u001B[1;32m    869\u001B[0m     \u001B[38;5;66;03m# Check whether the filename is to be opened in binary mode.\u001B[39;00m\n\u001B[1;32m    870\u001B[0m     \u001B[38;5;66;03m# Binary mode does not support 'encoding' and 'newline'.\u001B[39;00m\n\u001B[1;32m    871\u001B[0m     \u001B[38;5;28;01mif\u001B[39;00m ioargs\u001B[38;5;241m.\u001B[39mencoding \u001B[38;5;129;01mand\u001B[39;00m \u001B[38;5;124m\"\u001B[39m\u001B[38;5;124mb\u001B[39m\u001B[38;5;124m\"\u001B[39m \u001B[38;5;129;01mnot\u001B[39;00m \u001B[38;5;129;01min\u001B[39;00m ioargs\u001B[38;5;241m.\u001B[39mmode:\n\u001B[1;32m    872\u001B[0m         \u001B[38;5;66;03m# Encoding\u001B[39;00m\n\u001B[0;32m--> 873\u001B[0m         handle \u001B[38;5;241m=\u001B[39m \u001B[38;5;28;43mopen\u001B[39;49m\u001B[43m(\u001B[49m\n\u001B[1;32m    874\u001B[0m \u001B[43m            \u001B[49m\u001B[43mhandle\u001B[49m\u001B[43m,\u001B[49m\n\u001B[1;32m    875\u001B[0m \u001B[43m            \u001B[49m\u001B[43mioargs\u001B[49m\u001B[38;5;241;43m.\u001B[39;49m\u001B[43mmode\u001B[49m\u001B[43m,\u001B[49m\n\u001B[1;32m    876\u001B[0m \u001B[43m            \u001B[49m\u001B[43mencoding\u001B[49m\u001B[38;5;241;43m=\u001B[39;49m\u001B[43mioargs\u001B[49m\u001B[38;5;241;43m.\u001B[39;49m\u001B[43mencoding\u001B[49m\u001B[43m,\u001B[49m\n\u001B[1;32m    877\u001B[0m \u001B[43m            \u001B[49m\u001B[43merrors\u001B[49m\u001B[38;5;241;43m=\u001B[39;49m\u001B[43merrors\u001B[49m\u001B[43m,\u001B[49m\n\u001B[1;32m    878\u001B[0m \u001B[43m            \u001B[49m\u001B[43mnewline\u001B[49m\u001B[38;5;241;43m=\u001B[39;49m\u001B[38;5;124;43m\"\u001B[39;49m\u001B[38;5;124;43m\"\u001B[39;49m\u001B[43m,\u001B[49m\n\u001B[1;32m    879\u001B[0m \u001B[43m        \u001B[49m\u001B[43m)\u001B[49m\n\u001B[1;32m    880\u001B[0m     \u001B[38;5;28;01melse\u001B[39;00m:\n\u001B[1;32m    881\u001B[0m         \u001B[38;5;66;03m# Binary mode\u001B[39;00m\n\u001B[1;32m    882\u001B[0m         handle \u001B[38;5;241m=\u001B[39m \u001B[38;5;28mopen\u001B[39m(handle, ioargs\u001B[38;5;241m.\u001B[39mmode)\n",
      "\u001B[0;31mFileNotFoundError\u001B[0m: [Errno 2] No such file or directory: 'echo_w.csv'"
     ]
    }
   ],
   "execution_count": 64
  },
  {
   "metadata": {},
   "cell_type": "markdown",
   "source": "## PREVIOUS CODE",
   "id": "9cd7302f952c2072"
  },
  {
   "metadata": {},
   "cell_type": "code",
   "source": [
    "# connect neurons based on connectivity matrices, \n",
    "# for each conn type, create a connection if weight > 0 \n",
    "for pre_id in aa.index:\n",
    "    for post_id in aa.columns:\n",
    "        # get the index in the NEST neuron list\n",
    "        pre_idx = node_index[int(pre_id)]\n",
    "        post_idx = node_index[int(post_id)]\n",
    "        \n",
    "        # get the actual neuron objects\n",
    "        pre_neuron = neurons[pre_idx:pre_idx+1]\n",
    "        post_neuron = neurons[post_idx:post_idx+1]\n",
    "        \n",
    "        # type aa\n",
    "        weight_aa = aa.loc[pre_id, post_id]\n",
    "        if weight_aa > 0:\n",
    "            # connect with scaled weight and fixed delay\n",
    "            nest.Connect(\n",
    "                pre_neuron,\n",
    "                post_neuron,\n",
    "                syn_spec={'weight': 0.5 * weight_aa, 'delay': 1.5}\n",
    "            )\n",
    "        \n",
    "        # type ad\n",
    "        weight_ad = ad.loc[pre_id, post_id]\n",
    "        if weight_ad > 0:\n",
    "            nest.Connect(\n",
    "                pre_neuron,\n",
    "                post_neuron,\n",
    "                syn_spec={'weight': 0.5 * weight_ad, 'delay': 1.5}\n",
    "            )\n",
    "        \n",
    "        # type da\n",
    "        weight_da = da.loc[pre_id, post_id]\n",
    "        if weight_da > 0:\n",
    "            nest.Connect(\n",
    "                pre_neuron,\n",
    "                post_neuron,\n",
    "                syn_spec={'weight': 0.5 * weight_da, 'delay': 1.5}\n",
    "            )\n",
    "        \n",
    "        # type dd\n",
    "        weight_dd = dd.loc[pre_id, post_id]\n",
    "        if weight_dd > 0:\n",
    "            nest.Connect(\n",
    "                pre_neuron,\n",
    "                post_neuron,\n",
    "                syn_spec={'weight': 0.5 * weight_dd, 'delay': 1.5}\n",
    "            )"
   ],
   "id": "fc9cfe468c112d07",
   "outputs": [],
   "execution_count": null
  },
  {
   "metadata": {},
   "cell_type": "code",
   "source": [
    "# set up spike recording device and connect to all neurons\n",
    "spike_recorder = nest.Create('spike_recorder')\n",
    "nest.Connect(neurons, spike_recorder)"
   ],
   "id": "d666ba5bd35da2df",
   "outputs": [],
   "execution_count": null
  },
  {
   "metadata": {},
   "cell_type": "code",
   "source": [
    "# select random neurons for stimulation\n",
    "import random \n",
    "\n",
    "num_neurons_to_stimulate = 10\n",
    "stimulated_indices = random.sample(range(N_neurons), num_neurons_to_stimulate)\n",
    "stimulated_neurons = [neurons[i] for i in stimulated_indices]\n",
    "stimulated_neurons"
   ],
   "id": "107b36756dd8e64b",
   "outputs": [],
   "execution_count": null
  },
  {
   "metadata": {},
   "cell_type": "code",
   "source": [
    "#  set up a multimeter to record membrane potential from one neuron that were activated\n",
    "multimeter = nest.Create('multimeter', params={'record_from': ['V_m'], 'interval': 0.1})\n",
    "nest.Connect(multimeter, stimulated_neurons[0][0:1])"
   ],
   "id": "c5ad28e523f8e4b8",
   "outputs": [],
   "execution_count": null
  },
  {
   "metadata": {},
   "cell_type": "code",
   "source": [
    "# create a DC generator for external stimulation\n",
    "dc = nest.Create('dc_generator', params={'amplitude': 400.0, 'start': 50.0, 'stop': 150.0})"
   ],
   "id": "83f3953efa095a13",
   "outputs": [],
   "execution_count": null
  },
  {
   "metadata": {},
   "cell_type": "code",
   "source": [
    "# connect DC generator to each selected neuron\n",
    "for i in range(len(stimulated_neurons)):\n",
    "    nest.Connect(dc, stimulated_neurons[i][0:1])"
   ],
   "id": "1bcf29b383862595",
   "outputs": [],
   "execution_count": null
  },
  {
   "metadata": {},
   "cell_type": "code",
   "source": [
    "# run the simulation for the specified time\n",
    "sim_time = 200.0\n",
    "nest.Simulate(sim_time)"
   ],
   "id": "edd2dbc999b80e05",
   "outputs": [],
   "execution_count": null
  },
  {
   "metadata": {},
   "cell_type": "code",
   "source": [
    "# print spike events recorded during simulation\n",
    "spikes = nest.GetStatus(spike_recorder, 'events')[0]\n",
    "print(spikes)"
   ],
   "id": "6df8b6e0e91a256b",
   "outputs": [],
   "execution_count": null
  },
  {
   "metadata": {},
   "cell_type": "code",
   "source": "print(nest.Models())",
   "id": "7383aadc710cc741",
   "outputs": [],
   "execution_count": null
  },
  {
   "metadata": {},
   "cell_type": "code",
   "source": [
    "# print voltage recordings from the multimeter\n",
    "dmm = nest.GetStatus(multimeter)[0]\n",
    "Vms = dmm['events']['V_m']\n",
    "for vm in Vms:\n",
    "    print(vm)"
   ],
   "id": "49ae73bdac2f4dfd",
   "outputs": [],
   "execution_count": null
  },
  {
   "metadata": {},
   "cell_type": "code",
   "source": "",
   "id": "fb730b732f17411e",
   "outputs": [],
   "execution_count": null
  }
 ],
 "metadata": {
  "kernelspec": {
   "display_name": "Python 3",
   "language": "python",
   "name": "python3"
  },
  "language_info": {
   "codemirror_mode": {
    "name": "ipython",
    "version": 2
   },
   "file_extension": ".py",
   "mimetype": "text/x-python",
   "name": "python",
   "nbconvert_exporter": "python",
   "pygments_lexer": "ipython2",
   "version": "2.7.6"
  }
 },
 "nbformat": 4,
 "nbformat_minor": 5
}
