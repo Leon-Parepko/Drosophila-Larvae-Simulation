{
 "cells": [
  {
   "metadata": {},
   "cell_type": "code",
   "source": [
    "# import libraries \n",
    "import nest\n",
    "import nest.voltage_trace\n",
    "import numpy as np\n",
    "import random\n",
    "import matplotlib.pyplot as plt\n",
    "import pandas as pd\n",
    "import networkx as nx\n",
    "import pathlib\n",
    "from collections import deque\n",
    "import os\n",
    "\n",
    "rng = np.random.default_rng(42)"
   ],
   "id": "122fe4cbee17d804",
   "outputs": [],
   "execution_count": null
  },
  {
   "metadata": {},
   "cell_type": "code",
   "source": [
    "DATA_DIR = pathlib.Path(\"../Datasets/Original\")\n",
    "\n",
    "CELLTYPE_MAP = {\n",
    "    \"KCs\": \"exc\", \"PNs\": \"exc\", \"PNs-somato\": \"exc\",\n",
    "    \"LNs\": \"inh\", \"MB-FBNs\": \"inh\", \"MB-FFNs\": \"inh\",\n",
    "    \"pre-DN-SEZs\": \"mixed\", \"pre-DN-VNCs\": \"mixed\", \"RGNs\": \"inh\",\n",
    "    \"DN-VNCs\": \"mixed\", \"LHNs\": \"exc\",\n",
    "    \"MBONs\": \"exc\", \"MBINs\": \"mod\", \"DN-SEZs\": \"mixed\", \"CNs\": \"mixed\"\n",
    "}\n",
    "\n",
    "neuron_params = {\n",
    "    \"C_m\": 250,\n",
    "    \"tau_m\": 30,\n",
    "    \"t_ref\": 3,\n",
    "    \"E_L\": -70,\n",
    "    \"V_reset\": -65,\n",
    "    \"V_th\": -55,\n",
    "}"
   ],
   "id": "b2c783aa1f9930c0",
   "outputs": [],
   "execution_count": null
  },
  {
   "metadata": {},
   "cell_type": "code",
   "source": [
    "# load connectivity matrices\n",
    "aa = pd.read_csv(DATA_DIR / 'aa_connectivity_matrix.csv', index_col=0)\n",
    "ad = pd.read_csv(DATA_DIR / 'ad_connectivity_matrix.csv', index_col=0)\n",
    "da = pd.read_csv(DATA_DIR / 'da_connectivity_matrix.csv', index_col=0)\n",
    "dd = pd.read_csv(DATA_DIR / 'dd_connectivity_matrix.csv', index_col=0)"
   ],
   "id": "c774d7ed89aac7c3",
   "outputs": [],
   "execution_count": null
  },
  {
   "metadata": {},
   "cell_type": "code",
   "source": [
    "conn_mats = {\n",
    "    'aa': aa,\n",
    "    'ad': ad, \n",
    "    'da': da, \n",
    "    'dd': dd\n",
    "}"
   ],
   "id": "5d7b7f7bb72ca35d",
   "outputs": [],
   "execution_count": null
  },
  {
   "metadata": {},
   "cell_type": "code",
   "source": [
    "def load_attributes() -> pd.DataFrame:\n",
    "    # merge s3 and s4 tabls\n",
    "    s3 = pd.read_csv(DATA_DIR / \"s3.csv\")\n",
    "    s4 = pd.read_csv(DATA_DIR / \"s4.csv\")\n",
    "    return s3.merge(s4, on=\"skid\", how=\"left\", suffixes=(\"_axon\", \"_dendrite\"))"
   ],
   "id": "cfae1fdf911fe9d8",
   "outputs": [],
   "execution_count": null
  },
  {
   "metadata": {},
   "cell_type": "code",
   "source": [
    "def build_graph(conn_mats: dict[str, pd.DataFrame]) -> nx.DiGraph:\n",
    "    aa, ad, da, dd = conn_mats[\"aa\"], conn_mats[\"ad\"], conn_mats[\"da\"], conn_mats[\"dd\"]\n",
    "    G = nx.DiGraph()\n",
    "    for nid in aa.index:\n",
    "        G.add_node(int(nid))\n",
    "    \n",
    "    for pre_id in aa.index:\n",
    "        for post_id in aa.columns:\n",
    "            w_aa, w_ad = aa.loc[pre_id, post_id], ad.loc[pre_id, post_id]\n",
    "            w_da, w_dd = da.loc[pre_id, post_id], dd.loc[pre_id, post_id]\n",
    "            weight = w_aa + w_ad + w_da + w_dd \n",
    "            if weight > 0:\n",
    "                G.add_edge(int(pre_id), int(post_id), weight=(weight))\n",
    "                \n",
    "    return G"
   ],
   "id": "4959b3dac8949f3",
   "outputs": [],
   "execution_count": null
  },
  {
   "metadata": {},
   "cell_type": "code",
   "source": [
    "def annotate_graph(G: nx.DiGraph, attr_df: pd.DataFrame,\n",
    "                   inh_targer_perc: float = 0.20,\n",
    "                   rng = None) -> None:\n",
    "    rng = rng or random.Random(42)   \n",
    "    \n",
    "    # inhibitory/excitatory\n",
    "    for nid in G.nodes:\n",
    "        G.nodes[nid]['is_inh'] = None\n",
    "        \n",
    "    known_inh, candidates = set(), []\n",
    "    for _, row in attr_df.iterrows():\n",
    "        nid = int(row['skid'])\n",
    "        if nid not in G: \n",
    "            continue\n",
    "        ctype = str(row.get('celltype_axon', row.get('celltype')))\n",
    "        tag = CELLTYPE_MAP.get(ctype, 'unknown')\n",
    "        \n",
    "        if tag == 'inh':\n",
    "            G.nodes[nid]['is_inh'] = True\n",
    "            known_inh.add(nid)\n",
    "        elif tag == \"exc\" or tag == \"unknown\":\n",
    "            G.nodes[nid][\"is_inh\"] = False\n",
    "        else: # mixed/mod\n",
    "            candidates.append(nid)\n",
    "        \n",
    "        total_n = len(G.nodes)\n",
    "        target_inh = int(inh_targer_perc * total_n)\n",
    "        remaining_inh = target_inh - len(known_inh)\n",
    "    \n",
    "        random.shuffle(candidates)\n",
    "        selected_inh = set(candidates[:remaining_inh])\n",
    "    \n",
    "        for nid in candidates:\n",
    "            G.nodes[nid]['is_inh'] = (nid in selected_inh)\n",
    "    \n",
    "        for nid in G.nodes:\n",
    "            if G.nodes[nid]['is_inh'] is None:\n",
    "                G.nodes[nid]['is_inh'] = False\n",
    "                \n",
    "    # is_input/is_output\n",
    "    inp = pd.read_csv(DATA_DIR / \"inputs.csv\",  index_col=0)\n",
    "    out = pd.read_csv(DATA_DIR / \"outputs.csv\", index_col=0)\n",
    "    for nid in G:\n",
    "        G.nodes[nid][\"is_input\"]  = inp[\"axon_input\"].get(nid, 0)  > 50\n",
    "        G.nodes[nid][\"is_output\"] = out[\"axon_output\"].get(nid, 0) > 50\n",
    "    \n",
    "    # signal depth \n",
    "    depth = {n:-1 for n in G.nodes}\n",
    "    q = deque([n for n in G.nodes if G.nodes[n]['is_input']])\n",
    "    for n in q: depth[n]=0\n",
    "    while q:\n",
    "        u=q.popleft()\n",
    "        for v in G.successors(u):\n",
    "            if depth[v]==-1:\n",
    "                depth[v]=depth[u]+1\n",
    "                q.append(v)\n",
    "    for n in G.nodes: G.nodes[n]['signal_depth']=depth[n]\n",
    "    \n",
    "    # direction label\n",
    "    def edge_dir(u,v):\n",
    "        du,dv = depth[u], depth[v]\n",
    "        if du<0 or dv<0: return 'unknown'\n",
    "        if du<dv:        return 'feedforward'\n",
    "        if du>dv:        return 'feedback'\n",
    "        return 'lateral'\n",
    "    \n",
    "    for u,v,d in G.edges(data=True):\n",
    "        d['signal_direction']=edge_dir(u,v) "
   ],
   "id": "893cbba316925726",
   "outputs": [],
   "execution_count": null
  },
  {
   "metadata": {},
   "cell_type": "code",
   "source": [
    "def create_nest_network(G: nx.DiGraph,\n",
    "                        neuron_params: dict,\n",
    "                        BASE_W: float = 1,\n",
    "                        DELAY: float = 1.5,) -> tuple[list[int], dict[int, int]]:\n",
    "\n",
    "    nest.ResetKernel()\n",
    "    neurons = nest.Create(\"iaf_psc_alpha\", G.number_of_nodes(), params=neuron_params)\n",
    "    node_list = sorted(G.nodes())\n",
    "    node_index = {nid: i for i, nid in enumerate(node_list)}\n",
    "\n",
    "    for u, v, d in G.edges(data=True):\n",
    "        w = d[\"weight\"]\n",
    "        sign = -1 if G.nodes[u][\"is_inh\"] else 1\n",
    "        weight = BASE_W * w * sign\n",
    "        nest.Connect(\n",
    "            neurons[node_index[u]:node_index[u]+1],\n",
    "            neurons[node_index[v]:node_index[v]+1],\n",
    "            syn_spec={\"weight\": weight, \"delay\": DELAY}\n",
    "        )\n",
    "    return neurons, node_index"
   ],
   "id": "3222463206c84826",
   "outputs": [],
   "execution_count": null
  },
  {
   "metadata": {},
   "cell_type": "code",
   "source": [
    "def connect_spike_recorder(neurons):\n",
    "    spike_recorder = nest.Create(\"spike_recorder\")\n",
    "    nest.Connect(neurons, spike_recorder)\n",
    "    return spike_recorder"
   ],
   "id": "8a7f03a3e3d4b911",
   "outputs": [],
   "execution_count": null
  },
  {
   "metadata": {},
   "cell_type": "code",
   "source": [
    "def connect_dc_generator(\n",
    "        stim_ids: list, neurons,\n",
    "        node_index, stim_amp: float, \n",
    "        start: float, stop: float):\n",
    "    dc = nest.Create(\"dc_generator\", params={\"amplitude\": stim_amp, \"start\": start, \"stop\": stop})\n",
    "    for nid in stim_ids:\n",
    "        idx = node_index[nid]\n",
    "        nest.Connect(dc, neurons[idx:idx+1])     "
   ],
   "id": "bc0464648605ef22",
   "outputs": [],
   "execution_count": null
  },
  {
   "metadata": {},
   "cell_type": "code",
   "source": [
    "def get_input_neuron_ids(G: nx.DiGraph) -> list[int]:\n",
    "    return [nid for nid, data in G.nodes(data=True) if data.get(\"is_input\", False)]"
   ],
   "id": "604fa52463e13483",
   "outputs": [],
   "execution_count": null
  },
  {
   "metadata": {},
   "cell_type": "code",
   "source": [
    "def prepare_graph(conn_mats):\n",
    "    print('building graph...')\n",
    "    G = build_graph(conn_mats)\n",
    "    print(f'Graph: {len(G)} neurons,'\n",
    "          f'with {G.number_of_nodes()} nodes')\n",
    "    attr = load_attributes()\n",
    "    print('annotating graph...')\n",
    "    annotate_graph(G=G, attr_df=attr)\n",
    "    return G"
   ],
   "id": "114bcb11d55be1e5",
   "outputs": [],
   "execution_count": null
  },
  {
   "metadata": {},
   "cell_type": "code",
   "source": [
    "def run_experiment(\n",
    "        G: nx.DiGraph,\n",
    "        stim_start: float,\n",
    "        stim_stop: float,\n",
    "        tail: float,\n",
    "        generator_amp: float = 600,\n",
    "        stim_ids: list = None,\n",
    "        BASE_W: float = 1,\n",
    "        DELAY: float = 2.5,):\n",
    "    sim_time = stim_stop + tail\n",
    "    \n",
    "    print('creating nest network...')\n",
    "    neurons, node_index = create_nest_network(\n",
    "        G=G, neuron_params=neuron_params, \n",
    "        BASE_W=BASE_W, DELAY=DELAY)\n",
    "    spike_recorder = connect_spike_recorder(neurons)\n",
    "    \n",
    "    if stim_ids is None:                      \n",
    "        stim_ids = get_input_neuron_ids(G)\n",
    "        \n",
    "    print(f\"Stimulation of {len(stim_ids)} neurons \")\n",
    "    connect_dc_generator(\n",
    "        stim_ids=stim_ids, \n",
    "        neurons=neurons,\n",
    "        node_index=node_index, \n",
    "        stim_amp=generator_amp, \n",
    "        start=stim_start, \n",
    "        stop=stim_stop\n",
    "    )\n",
    "    \n",
    "    nest.Simulate(sim_time)\n",
    "    \n",
    "    events = nest.GetStatus(spike_recorder, \"events\")[0]\n",
    "    times = events[\"times\"]\n",
    "    return events, times "
   ],
   "id": "c85444ba0025850e",
   "outputs": [],
   "execution_count": null
  },
  {
   "metadata": {},
   "cell_type": "code",
   "source": [
    "stim_start = 50\n",
    "stim_stop = 500\n",
    "tail = 1000\n",
    "G = prepare_graph(conn_mats)\n",
    "events, times = run_experiment(G=G, stim_start=stim_start, stim_stop=stim_stop, tail=tail, generator_amp=600, BASE_W=4.6, DELAY=2.5)"
   ],
   "id": "616c98de92da7057",
   "outputs": [],
   "execution_count": null
  },
  {
   "metadata": {},
   "cell_type": "markdown",
   "source": "## REPORTS",
   "id": "fb30875751676711"
  },
  {
   "metadata": {},
   "cell_type": "code",
   "source": [
    "def echo_duration(times: np.ndarray, sim_time: float,\n",
    "                  quiet_ms: float = 20.0) -> float:\n",
    "    post = times[times > stim_stop]\n",
    "    if post.size == 0:\n",
    "        return 0.0\n",
    "\n",
    "    post_sorted = np.sort(post)\n",
    "    gaps = np.diff(np.append(post_sorted, quiet_ms + sim_time))\n",
    "    end_idx = np.argmax(gaps >= quiet_ms)\n",
    "    echo_end = post_sorted[end_idx]\n",
    "    echo_dur = echo_end - stim_stop\n",
    "    return echo_dur"
   ],
   "id": "266225a43a757a74",
   "outputs": [],
   "execution_count": null
  },
  {
   "metadata": {},
   "cell_type": "code",
   "source": [
    "sim_time = stim_stop + 1000\n",
    "echo_duration(times, sim_time=sim_time)"
   ],
   "id": "87e73b08b4e56a0",
   "outputs": [],
   "execution_count": null
  },
  {
   "metadata": {},
   "cell_type": "code",
   "source": [
    "def spike_matrix(neurons, events: dict,\n",
    "                 sim_time: float, bin_ms: float = 1.0):\n",
    "    senders = events[\"senders\"]\n",
    "    times = events[\"times\"]\n",
    "\n",
    "    n_neurons = len(neurons)\n",
    "    n_bins = int(np.ceil(sim_time / bin_ms))\n",
    "\n",
    "    X = np.zeros((n_neurons, n_bins), dtype=np.int32)\n",
    "\n",
    "    gid2row = {neurons[i].global_id: i for i in range(n_neurons)}\n",
    "    bin_idx = (times // bin_ms).astype(int)\n",
    "    bin_idx[bin_idx == n_bins] = n_bins - 1        \n",
    "\n",
    "    for gid, b in zip(senders, bin_idx):\n",
    "        X[gid2row[gid], b] += 1\n",
    "\n",
    "    return X, gid2row"
   ],
   "id": "5c0e45aaf31b55e3",
   "outputs": [],
   "execution_count": null
  },
  {
   "metadata": {},
   "cell_type": "code",
   "source": [
    "def save_activity_matrix(events: dict, neurons,\n",
    "                         sim_time: float, bin_ms: float = 1.0,\n",
    "                         fname: str = \"activity_matrix.csv\") -> np.ndarray:\n",
    "    X, _ = spike_matrix(neurons, events, sim_time, bin_ms)\n",
    "    \n",
    "    df = pd.DataFrame(X.T, columns=[f\"neuron_{i}\" for i in range(X.shape[0])])\n",
    "    df.to_csv(fname, index_label=\"time_bin\")\n",
    "    \n",
    "    print(f\"{fname} saved\")\n",
    "    return X"
   ],
   "id": "440d53b65ebce7da",
   "outputs": [],
   "execution_count": null
  },
  {
   "metadata": {},
   "cell_type": "code",
   "source": [
    "def save_adj_matrix(G: nx.DiGraph,\n",
    "                    node_index,\n",
    "                    BASE_W: float = 1.0,\n",
    "                    fname: str = \"adj.csv\"):\n",
    "    N = len(node_index)\n",
    "    adj = np.zeros((N, N), dtype=np.float32)\n",
    "    for u, v, d in G.edges(data=True):\n",
    "        sign = -1 if G.nodes[u][\"is_inh\"] else 1\n",
    "        adj[node_index[u], node_index[v]] = BASE_W * sign * d[\"weight\"]\n",
    "    pd.DataFrame(adj,\n",
    "                 index=list(node_index.keys()),\n",
    "                 columns=list(node_index.keys())\n",
    "                ).to_csv(fname)\n",
    "    print(f\"{fname} saved\")"
   ],
   "id": "3af473a3067140f3",
   "outputs": [],
   "execution_count": null
  },
  {
   "metadata": {},
   "cell_type": "code",
   "source": [
    "def report_most_active_neuron(X, node_list: list[int], G: nx.DiGraph):\n",
    "    total_spikes = X.sum(axis=1)\n",
    "    idx_max = int(np.argmax(total_spikes))\n",
    "    nid_max = node_list[idx_max]\n",
    "\n",
    "    print(\"─\" * 40)\n",
    "    print(f\"Most active neuron: {nid_max}\")\n",
    "    print(f\"Total spikes = {total_spikes[idx_max]}\")\n",
    "    print(f\"Signal depth = {G.nodes[nid_max].get('signal_depth')}\")\n",
    "    print(f\"In-degree and out-deg = {G.in_degree(nid_max)} / {G.out_degree(nid_max)}\")\n",
    "    print(f\"Is inhibitory = {G.nodes[nid_max].get('is_inh')}\")\n",
    "    print(f\"Is Input-class neuron = {G.nodes[nid_max].get('is_input')}\")\n",
    "    if nx.has_path(G, nid_max, nid_max):\n",
    "        print(\"Self-loop or cycle detected\")"
   ],
   "id": "76e958c01a89fcd8",
   "outputs": [],
   "execution_count": null
  },
  {
   "metadata": {},
   "cell_type": "code",
   "source": [
    "def save_activity_by_depth(X, G: nx.DiGraph, node_index, fname: str = \"activity_by_depth.csv\"):\n",
    "    depth_attr = nx.get_node_attributes(G, \"signal_depth\")\n",
    "    records = []\n",
    "    for lvl in sorted(set(depth_attr.values())):\n",
    "        rows = [node_index[n] for n, d in depth_attr.items() if d == lvl]\n",
    "        if not rows:\n",
    "            continue\n",
    "        total = X[rows, :].sum()\n",
    "        records.append({\n",
    "            \"signal_depth\": lvl,\n",
    "            \"total_spikes\": total,\n",
    "            \"mean_spikes\": total / len(rows),\n",
    "            \"n_neurons\": len(rows) })\n",
    "    pd.DataFrame(records).to_csv(fname, index=False)\n",
    "    print(f\"{fname} saved\")"
   ],
   "id": "dbf9551d4e67a0ef",
   "outputs": [],
   "execution_count": null
  },
  {
   "metadata": {},
   "cell_type": "markdown",
   "source": "## PREVIOUS CODE",
   "id": "9cd7302f952c2072"
  },
  {
   "metadata": {},
   "cell_type": "code",
   "source": [
    "# connect neurons based on connectivity matrices, \n",
    "# for each conn type, create a connection if weight > 0 \n",
    "for pre_id in aa.index:\n",
    "    for post_id in aa.columns:\n",
    "        # get the index in the NEST neuron list\n",
    "        pre_idx = node_index[int(pre_id)]\n",
    "        post_idx = node_index[int(post_id)]\n",
    "        \n",
    "        # get the actual neuron objects\n",
    "        pre_neuron = neurons[pre_idx:pre_idx+1]\n",
    "        post_neuron = neurons[post_idx:post_idx+1]\n",
    "        \n",
    "        # type aa\n",
    "        weight_aa = aa.loc[pre_id, post_id]\n",
    "        if weight_aa > 0:\n",
    "            # connect with scaled weight and fixed delay\n",
    "            nest.Connect(\n",
    "                pre_neuron,\n",
    "                post_neuron,\n",
    "                syn_spec={\"weight\": 0.5 * weight_aa, \"delay\": 1.5}\n",
    "            )\n",
    "        \n",
    "        # type ad\n",
    "        weight_ad = ad.loc[pre_id, post_id]\n",
    "        if weight_ad > 0:\n",
    "            nest.Connect(\n",
    "                pre_neuron,\n",
    "                post_neuron,\n",
    "                syn_spec={\"weight\": 0.5 * weight_ad, \"delay\": 1.5}\n",
    "            )\n",
    "        \n",
    "        # type da\n",
    "        weight_da = da.loc[pre_id, post_id]\n",
    "        if weight_da > 0:\n",
    "            nest.Connect(\n",
    "                pre_neuron,\n",
    "                post_neuron,\n",
    "                syn_spec={\"weight\": 0.5 * weight_da, \"delay\": 1.5}\n",
    "            )\n",
    "        \n",
    "        # type dd\n",
    "        weight_dd = dd.loc[pre_id, post_id]\n",
    "        if weight_dd > 0:\n",
    "            nest.Connect(\n",
    "                pre_neuron,\n",
    "                post_neuron,\n",
    "                syn_spec={\"weight\": 0.5 * weight_dd, \"delay\": 1.5}\n",
    "            )"
   ],
   "id": "fc9cfe468c112d07",
   "outputs": [],
   "execution_count": null
  },
  {
   "metadata": {},
   "cell_type": "code",
   "source": [
    "# set up spike recording device and connect to all neurons\n",
    "spike_recorder = nest.Create(\"spike_recorder\")\n",
    "nest.Connect(neurons, spike_recorder)"
   ],
   "id": "d666ba5bd35da2df",
   "outputs": [],
   "execution_count": null
  },
  {
   "metadata": {},
   "cell_type": "code",
   "source": [
    "# select random neurons for stimulation\n",
    "import random \n",
    "\n",
    "num_neurons_to_stimulate = 10\n",
    "stimulated_indices = random.sample(range(N_neurons), num_neurons_to_stimulate)\n",
    "stimulated_neurons = [neurons[i] for i in stimulated_indices]\n",
    "stimulated_neurons"
   ],
   "id": "107b36756dd8e64b",
   "outputs": [],
   "execution_count": null
  },
  {
   "metadata": {},
   "cell_type": "code",
   "source": [
    "#  set up a multimeter to record membrane potential from one neuron that were activated\n",
    "multimeter = nest.Create(\"multimeter\", params={\"record_from\": [\"V_m\"], \"interval\": 0.1})\n",
    "nest.Connect(multimeter, stimulated_neurons[0][0:1])"
   ],
   "id": "c5ad28e523f8e4b8",
   "outputs": [],
   "execution_count": null
  },
  {
   "metadata": {},
   "cell_type": "code",
   "source": [
    "# create a DC generator for external stimulation\n",
    "dc = nest.Create(\"dc_generator\", params={\"amplitude\": 400.0, \"start\": 50.0, \"stop\": 150.0})"
   ],
   "id": "83f3953efa095a13",
   "outputs": [],
   "execution_count": null
  },
  {
   "metadata": {},
   "cell_type": "code",
   "source": [
    "# connect DC generator to each selected neuron\n",
    "for i in range(len(stimulated_neurons)):\n",
    "    nest.Connect(dc, stimulated_neurons[i][0:1])"
   ],
   "id": "1bcf29b383862595",
   "outputs": [],
   "execution_count": null
  },
  {
   "metadata": {},
   "cell_type": "code",
   "source": [
    "# run the simulation for the specified time\n",
    "sim_time = 200.0\n",
    "nest.Simulate(sim_time)"
   ],
   "id": "edd2dbc999b80e05",
   "outputs": [],
   "execution_count": null
  },
  {
   "metadata": {},
   "cell_type": "code",
   "source": [
    "# print spike events recorded during simulation\n",
    "spikes = nest.GetStatus(spike_recorder, \"events\")[0]\n",
    "print(spikes)"
   ],
   "id": "6df8b6e0e91a256b",
   "outputs": [],
   "execution_count": null
  },
  {
   "metadata": {},
   "cell_type": "code",
   "source": "print(nest.Models())",
   "id": "7383aadc710cc741",
   "outputs": [],
   "execution_count": null
  },
  {
   "metadata": {},
   "cell_type": "code",
   "source": [
    "# print voltage recordings from the multimeter\n",
    "dmm = nest.GetStatus(multimeter)[0]\n",
    "Vms = dmm[\"events\"][\"V_m\"]\n",
    "for vm in Vms:\n",
    "    print(vm)"
   ],
   "id": "49ae73bdac2f4dfd",
   "outputs": [],
   "execution_count": null
  },
  {
   "metadata": {},
   "cell_type": "code",
   "source": "",
   "id": "fb730b732f17411e",
   "outputs": [],
   "execution_count": null
  }
 ],
 "metadata": {
  "kernelspec": {
   "display_name": "Python 3",
   "language": "python",
   "name": "python3"
  },
  "language_info": {
   "codemirror_mode": {
    "name": "ipython",
    "version": 2
   },
   "file_extension": ".py",
   "mimetype": "text/x-python",
   "name": "python",
   "nbconvert_exporter": "python",
   "pygments_lexer": "ipython2",
   "version": "2.7.6"
  }
 },
 "nbformat": 4,
 "nbformat_minor": 5
}
