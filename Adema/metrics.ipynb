{
 "cells": [
  {
   "metadata": {},
   "cell_type": "markdown",
   "source": [
    "1) 3016 neurons and 548,000 synapses\n",
    "2) a-d (66.6%), a-a (25.8%), d-d (25.8%), d-a (1.8%)\n",
    "3) Most edges were weak (1 or 2 synapses) for all connection types (a-d: 60%, a-a: 75%, d-d: 79%, d-a: 91%; 66% across all types). "
   ],
   "id": "545daf2f5f273463"
  },
  {
   "metadata": {
    "ExecuteTime": {
     "end_time": "2025-02-17T12:25:11.419797Z",
     "start_time": "2025-02-17T12:25:10.334509Z"
    }
   },
   "cell_type": "code",
   "source": [
    "import pandas as pd\n",
    "import numpy as np\n",
    "\n",
    "# all-all connectivity matrix\n",
    "all_all_path = \"../Datasets/Original/all-all_connectivity_matrix.csv\"\n",
    "all_all = pd.read_csv(all_all_path, index_col=0)\n",
    "\n",
    "all_all = all_all.apply(pd.to_numeric, errors='coerce')\n",
    "\n",
    "n = all_all.shape[0]\n",
    "\n",
    "total_edges = np.size(all_all.values)\n",
    "\n",
    "density = total_edges / (n * (n - 1))\n",
    "\n",
    "print(f'total nodes: {n}') "
   ],
   "id": "e434a4da39dc5026",
   "outputs": [
    {
     "name": "stdout",
     "output_type": "stream",
     "text": [
      "total nodes: 2952\n"
     ]
    }
   ],
   "execution_count": 37
  },
  {
   "metadata": {
    "ExecuteTime": {
     "end_time": "2025-02-17T12:45:57.850407Z",
     "start_time": "2025-02-17T12:45:55.189541Z"
    }
   },
   "cell_type": "code",
   "source": [
    "aa = pd.read_csv(\"../Datasets/Original/aa_connectivity_matrix.csv\", index_col=0)\n",
    "ad = pd.read_csv(\"../Datasets/Original/ad_connectivity_matrix.csv\", index_col=0)\n",
    "dd = pd.read_csv(\"../Datasets/Original/dd_connectivity_matrix.csv\", index_col=0)\n",
    "da = pd.read_csv(\"../Datasets/Original/da_connectivity_matrix.csv\", index_col=0)"
   ],
   "id": "3a98e7321af86a28",
   "outputs": [],
   "execution_count": 53
  },
  {
   "metadata": {
    "ExecuteTime": {
     "end_time": "2025-02-17T12:46:03.976351Z",
     "start_time": "2025-02-17T12:46:03.761807Z"
    }
   },
   "cell_type": "code",
   "source": [
    "syn_aa = aa.values.sum()\n",
    "syn_ad = ad.values.sum()\n",
    "syn_dd = dd.values.sum()\n",
    "syn_da = da.values.sum()\n",
    "total_synapses = syn_aa + syn_ad + syn_dd + syn_da"
   ],
   "id": "e60290dd98c0c83d",
   "outputs": [],
   "execution_count": 54
  },
  {
   "metadata": {
    "ExecuteTime": {
     "end_time": "2025-02-17T12:46:05.006954Z",
     "start_time": "2025-02-17T12:46:04.994834Z"
    }
   },
   "cell_type": "code",
   "source": [
    "# original values: a-d (66.6%), a-a (25.8%), d-d (25.8%), d-a (1.8%)\n",
    "print(f'a–a = {syn_aa / total_synapses * 100:.1f}%')\n",
    "print(f'a–d = {syn_ad / total_synapses * 100:.1f}%')\n",
    "print(f'd–d = {syn_dd / total_synapses * 100:.1f}%')\n",
    "print(f'd–a = {syn_da / total_synapses * 100:.1f}%')"
   ],
   "id": "d6061b01a49c9d52",
   "outputs": [
    {
     "name": "stdout",
     "output_type": "stream",
     "text": [
      "a–a = 25.8%\n",
      "a–d = 66.6%\n",
      "d–d = 5.8%\n",
      "d–a = 1.8%\n"
     ]
    }
   ],
   "execution_count": 55
  },
  {
   "metadata": {
    "ExecuteTime": {
     "end_time": "2025-02-17T12:47:12.087634Z",
     "start_time": "2025-02-17T12:47:11.773114Z"
    }
   },
   "cell_type": "code",
   "source": [
    "def effective_nodes(matrix_df):\n",
    "    arr = matrix_df.values.astype(float)\n",
    "    active_rows = np.any(arr != 0, axis=1)\n",
    "    active_cols = np.any(arr != 0, axis=0)\n",
    "    active_nodes = active_rows | active_cols\n",
    "    return np.count_nonzero(active_nodes)\n",
    "\n",
    "aa_active = effective_nodes(aa)\n",
    "ad_active = effective_nodes(ad)\n",
    "da_active = effective_nodes(da)\n",
    "dd_active = effective_nodes(dd)\n",
    "\n",
    "print(f'{aa_active=}')\n",
    "print(f'{ad_active=}')\n",
    "print(f'{da_active=}')\n",
    "print(f'{dd_active=}')"
   ],
   "id": "1e5211e79a716228",
   "outputs": [
    {
     "name": "stdout",
     "output_type": "stream",
     "text": [
      "aa_active=2887\n",
      "ad_active=2880\n",
      "da_active=1907\n",
      "dd_active=2204\n"
     ]
    }
   ],
   "execution_count": 57
  },
  {
   "metadata": {
    "ExecuteTime": {
     "end_time": "2025-02-17T15:24:00.328711Z",
     "start_time": "2025-02-17T15:24:00.271082Z"
    }
   },
   "cell_type": "code",
   "source": [
    "# original (paper) values for weak edges: a-d: 60%, a-a: 75%, d-d: 79%, d-a: 91%; 66%\n",
    "def edge_strength(matrix_df):\n",
    "    values = matrix_df.values.flatten()\n",
    "    nonzero = values[values > 0]\n",
    "    weak_edges = np.sum((nonzero >= 1) & (nonzero <= 2))\n",
    "    strong_edges = np.sum(nonzero >= 5)\n",
    "    total_edges = len(nonzero)\n",
    "    perc_weak = weak_edges / total_edges * 100\n",
    "    perc_strong = strong_edges / total_edges * 100\n",
    "    print(f'Weak edges = {perc_weak:.1f}%')\n",
    "    print(f'Strong edges = {perc_strong:.1f}%')\n",
    "    return perc_weak, perc_strong"
   ],
   "id": "bb11697b2238c0c8",
   "outputs": [],
   "execution_count": 86
  },
  {
   "metadata": {
    "ExecuteTime": {
     "end_time": "2025-02-17T15:24:00.967277Z",
     "start_time": "2025-02-17T15:24:00.829636Z"
    }
   },
   "cell_type": "code",
   "source": "edge_strength(ad)",
   "id": "b31cd775cd5e4098",
   "outputs": [
    {
     "name": "stdout",
     "output_type": "stream",
     "text": [
      "Weak edges = 59.5%\n",
      "Strong edges = 23.3%\n"
     ]
    },
    {
     "data": {
      "text/plain": [
       "(59.47124085293887, 23.27327091037847)"
      ]
     },
     "execution_count": 87,
     "metadata": {},
     "output_type": "execute_result"
    }
   ],
   "execution_count": 87
  },
  {
   "metadata": {
    "ExecuteTime": {
     "end_time": "2025-02-17T15:24:02.416941Z",
     "start_time": "2025-02-17T15:24:02.208645Z"
    }
   },
   "cell_type": "code",
   "source": "edge_strength(aa)",
   "id": "2e574bf9e4487884",
   "outputs": [
    {
     "name": "stdout",
     "output_type": "stream",
     "text": [
      "Weak edges = 75.0%\n",
      "Strong edges = 10.2%\n"
     ]
    },
    {
     "data": {
      "text/plain": [
       "(74.97539127866915, 10.200314991633034)"
      ]
     },
     "execution_count": 88,
     "metadata": {},
     "output_type": "execute_result"
    }
   ],
   "execution_count": 88
  },
  {
   "metadata": {
    "ExecuteTime": {
     "end_time": "2025-02-17T15:24:03.898509Z",
     "start_time": "2025-02-17T15:24:03.705777Z"
    }
   },
   "cell_type": "code",
   "source": "edge_strength(dd)",
   "id": "d37906312ab59644",
   "outputs": [
    {
     "name": "stdout",
     "output_type": "stream",
     "text": [
      "Weak edges = 79.4%\n",
      "Strong edges = 10.2%\n"
     ]
    },
    {
     "data": {
      "text/plain": [
       "(79.35469564253243, 10.189599733895111)"
      ]
     },
     "execution_count": 89,
     "metadata": {},
     "output_type": "execute_result"
    }
   ],
   "execution_count": 89
  },
  {
   "metadata": {
    "ExecuteTime": {
     "end_time": "2025-02-17T15:24:04.185150Z",
     "start_time": "2025-02-17T15:24:04.057384Z"
    }
   },
   "cell_type": "code",
   "source": "edge_strength(da)",
   "id": "42c5907ccdbd2448",
   "outputs": [
    {
     "name": "stdout",
     "output_type": "stream",
     "text": [
      "Weak edges = 86.1%\n",
      "Strong edges = 6.9%\n"
     ]
    },
    {
     "data": {
      "text/plain": [
       "(86.0827512090274, 6.93175711982805)"
      ]
     },
     "execution_count": 90,
     "metadata": {},
     "output_type": "execute_result"
    }
   ],
   "execution_count": 90
  }
 ],
 "metadata": {
  "kernelspec": {
   "display_name": "Python 3",
   "language": "python",
   "name": "python3"
  },
  "language_info": {
   "codemirror_mode": {
    "name": "ipython",
    "version": 2
   },
   "file_extension": ".py",
   "mimetype": "text/x-python",
   "name": "python",
   "nbconvert_exporter": "python",
   "pygments_lexer": "ipython2",
   "version": "2.7.6"
  }
 },
 "nbformat": 4,
 "nbformat_minor": 5
}
