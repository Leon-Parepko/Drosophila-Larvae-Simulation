{
 "cells": [
  {
   "cell_type": "code",
   "execution_count": 1,
   "id": "7ebf5714-1527-4f45-a3c8-d8d973b2489b",
   "metadata": {},
   "outputs": [
    {
     "name": "stderr",
     "output_type": "stream",
     "text": [
      "INFO  : Global CATMAID instance set. Caching is ON. (pymaid)\n"
     ]
    }
   ],
   "source": [
    "import networkx as nx\n",
    "import pandas as pd\n",
    "import pymaid\n",
    "import os\n",
    "\n",
    "os.chdir(\"../../..\")\n",
    "\n",
    "catmaid_url = 'https://l1em.catmaid.virtualflybrain.org'\n",
    "http_user = None\n",
    "http_password = None\n",
    "project_id = 1\n",
    "\n",
    "rm = pymaid.CatmaidInstance(catmaid_url, http_user, http_password, project_id)"
   ]
  },
  {
   "cell_type": "markdown",
   "id": "7d6705f6",
   "metadata": {},
   "source": [
    "# Hypothesis: 3k neurons have somas in contrast to 5k"
   ]
  },
  {
   "cell_type": "markdown",
   "id": "3977bafb",
   "metadata": {},
   "source": [
    "* ### On builded **Graphs**"
   ]
  },
  {
   "cell_type": "code",
   "execution_count": 2,
   "id": "e8d34147",
   "metadata": {},
   "outputs": [
    {
     "name": "stderr",
     "output_type": "stream",
     "text": [
      "IOStream.flush timed out\n",
      "IOStream.flush timed out\n",
      "IOStream.flush timed out\n"
     ]
    },
    {
     "data": {
      "text/plain": [
       "{'end': 329407,\n",
       " 'slab': 637757,\n",
       " 'branch': 106168,\n",
       " 'root': 3016,\n",
       " 'connector': 214372}"
      ]
     },
     "execution_count": 2,
     "metadata": {},
     "output_type": "execute_result"
    }
   ],
   "source": [
    "G = nx.read_gml('./Datasets/Generated/complete_graph(3k).gml')\n",
    "\n",
    "\n",
    "node_types_count = {}\n",
    "for node in G.nodes(data=True):\n",
    "    node_attributes = node[1]\n",
    "    if 'type' in node_attributes:\n",
    "        node_type = node_attributes['type']\n",
    "        if node_type in node_types_count:\n",
    "            node_types_count[node_type] += 1\n",
    "        else:\n",
    "            node_types_count[node_type] = 1\n",
    "            \n",
    "node_types_count"
   ]
  },
  {
   "cell_type": "code",
   "execution_count": 3,
   "id": "7feff23c",
   "metadata": {},
   "outputs": [
    {
     "name": "stderr",
     "output_type": "stream",
     "text": [
      "IOStream.flush timed out\n",
      "IOStream.flush timed out\n",
      "IOStream.flush timed out\n"
     ]
    },
    {
     "data": {
      "text/plain": [
       "{'end': 432489,\n",
       " 'slab': 838706,\n",
       " 'branch': 136540,\n",
       " 'root': 5013,\n",
       " 'connector': 296857}"
      ]
     },
     "execution_count": 3,
     "metadata": {},
     "output_type": "execute_result"
    }
   ],
   "source": [
    "G = nx.read_gml('./Datasets/Generated/complete_graph(5k).gml')\n",
    "\n",
    "\n",
    "node_types_count = {}\n",
    "for node in G.nodes(data=True):\n",
    "    node_attributes = node[1]\n",
    "    if 'type' in node_attributes:\n",
    "        node_type = node_attributes['type']\n",
    "        if node_type in node_types_count:\n",
    "            node_types_count[node_type] += 1\n",
    "        else:\n",
    "            node_types_count[node_type] = 1\n",
    "            \n",
    "node_types_count"
   ]
  },
  {
   "cell_type": "markdown",
   "id": "071b5887",
   "metadata": {},
   "source": [
    "* ### On auto **Tables**"
   ]
  },
  {
   "cell_type": "code",
   "execution_count": 14,
   "id": "e9af42fa",
   "metadata": {},
   "outputs": [
    {
     "name": "stderr",
     "output_type": "stream",
     "text": [
      "INFO  : Global CATMAID instance set. Caching is ON. (pymaid)\n",
      "INFO  : Cached data used. Use `pymaid.clear_cache()` to clear. (pymaid)\n"
     ]
    }
   ],
   "source": [
    "# Get skids of 3k neurons\n",
    "skids = pymaid.get_skids_by_annotation('mw brain and inputs')\n",
    "\n",
    "\n",
    "metadata = pd.read_pickle(\"Metadata(auto).pkl\")\n",
    "metadata.set_index(\"skeleton_id\", inplace=True)\n",
    "metadata.index = metadata.index.astype(int)\n",
    "\n",
    "metadata_3k = metadata[metadata.index.isin(skids)]"
   ]
  },
  {
   "cell_type": "code",
   "execution_count": 17,
   "id": "5f29e7f3",
   "metadata": {},
   "outputs": [
    {
     "name": "stdout",
     "output_type": "stream",
     "text": [
      "ends: 3011\n",
      "mw axon split: 2923\n",
      "soma: 2582\n",
      "uncertain continuation: 2151\n",
      "not a branch: 1925\n",
      "uncertain end: 1800\n",
      "TODO: 823\n",
      "gap: 683\n",
      "mw periphery: 434\n",
      "synapse?: 395\n",
      "Periphery: 296\n",
      "bundle entry point: 211\n",
      "Sections Missing Ahead: 177\n",
      "Cell Body: 163\n",
      "lineage entry: 155\n",
      "microtubules end: 122\n",
      "not a synapse: 106\n",
      "continues?: 100\n",
      "nerve ending: 98\n",
      "noise: 93\n",
      "ad_split: 90\n",
      "m review: 51\n",
      "merge?: 50\n",
      "Is synapse right?: 46\n",
      "check synapse: 43\n",
      "to Dorsal Organ: 43\n",
      "fix synapse: 41\n",
      "Soma: 38\n",
      "stitching error: 37\n",
      "touching!: 37\n",
      "Albert delete connector: 34\n",
      "start axon: 32\n",
      "return: 29\n",
      "example of clathrin-coated vesicle: 28\n",
      "is synapse?: 28\n",
      "synapse right?: 28\n",
      "Synapse?: 27\n",
      "to be deleted: 26\n",
      "crossover: 23\n",
      "Albert reference crossing: 23\n",
      "??: 23\n",
      "DENDRITE ROOT: 22\n",
      "Sections missing ahead: 22\n",
      "example of faded membrane: 21\n",
      "GAP: 21\n",
      "double node synapse: 21\n",
      "ALBERT HERE: 21\n",
      "alternative synapse: 20\n",
      "Duplicate Synapse: 18\n",
      "bruno:ends?: 18\n"
     ]
    }
   ],
   "source": [
    "tag_counts = {}\n",
    "\n",
    "for index, row in metadata_3k.iterrows():\n",
    "    for tag in row['tags']:\n",
    "        if tag in tag_counts:\n",
    "            tag_counts[tag] += 1\n",
    "        else:\n",
    "            tag_counts[tag] = 1\n",
    "\n",
    "for tag, count in sorted(tag_counts.items(), key=lambda x: x[1], reverse=True)[:50]:\n",
    "    print(f\"{tag}: {count}\")"
   ]
  },
  {
   "cell_type": "code",
   "execution_count": 18,
   "id": "c8a43bfa",
   "metadata": {},
   "outputs": [
    {
     "name": "stdout",
     "output_type": "stream",
     "text": [
      "Tag `mw axon split`:\t2923 neurons\n",
      "Tag `soma`:\t2582 neurons\n",
      "Tag `Soma`:\t38 neurons\n",
      "Tag `Cell Body`:\t163 neurons\n"
     ]
    }
   ],
   "source": [
    "tags = ['mw axon split', 'soma', 'Soma', 'Cell Body']\n",
    "\n",
    "for tag in tags:\n",
    "    count = sum(1 for index, row in metadata_3k.iterrows() if tag in row['tags'])\n",
    "    print(f\"Tag `{tag}`:\\t{count} neurons\")\n"
   ]
  }
 ],
 "metadata": {
  "kernelspec": {
   "display_name": "Python 3 (ipykernel)",
   "language": "python",
   "name": "python3"
  },
  "language_info": {
   "codemirror_mode": {
    "name": "ipython",
    "version": 3
   },
   "file_extension": ".py",
   "mimetype": "text/x-python",
   "name": "python",
   "nbconvert_exporter": "python",
   "pygments_lexer": "ipython3",
   "version": "3.9.23"
  }
 },
 "nbformat": 4,
 "nbformat_minor": 5
}
