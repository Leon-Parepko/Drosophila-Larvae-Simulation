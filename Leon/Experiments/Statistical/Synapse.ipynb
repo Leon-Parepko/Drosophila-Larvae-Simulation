{
 "cells": [
  {
   "cell_type": "markdown",
   "id": "af9afea3",
   "metadata": {},
   "source": [
    "* ### On builded **Graphs**"
   ]
  },
  {
   "cell_type": "code",
   "execution_count": 1,
   "id": "6caf5a16",
   "metadata": {},
   "outputs": [
    {
     "data": {
      "text/plain": [
       "{'slab': 143,\n",
       " 'end': 60,\n",
       " 'root': 1,\n",
       " 'branch': 6,\n",
       " 'Postsynaptic': 35,\n",
       " 'Presynaptic': 74}"
      ]
     },
     "execution_count": 1,
     "metadata": {},
     "output_type": "execute_result"
    }
   ],
   "source": [
    "import networkx as nx\n",
    "\n",
    "skid = 10167116\n",
    "G = nx.read_gml(f'./Neurons_Metadata/Graphs/neurons/{skid}.gml')\n",
    "\n",
    "node_types_count = {}\n",
    "for node in G.nodes(data=True):\n",
    "    node_attributes = node[1]\n",
    "    if 'type' in node_attributes:\n",
    "        node_type = node_attributes['type']\n",
    "        if node_type in node_types_count:\n",
    "            node_types_count[node_type] += 1\n",
    "        else:\n",
    "            node_types_count[node_type] = 1\n",
    "            \n",
    "node_types_count"
   ]
  }
 ],
 "metadata": {
  "kernelspec": {
   "display_name": "Python 3 (ipykernel)",
   "language": "python",
   "name": "python3"
  },
  "language_info": {
   "codemirror_mode": {
    "name": "ipython",
    "version": 3
   },
   "file_extension": ".py",
   "mimetype": "text/x-python",
   "name": "python",
   "nbconvert_exporter": "python",
   "pygments_lexer": "ipython3",
   "version": "3.9.23"
  }
 },
 "nbformat": 4,
 "nbformat_minor": 5
}
