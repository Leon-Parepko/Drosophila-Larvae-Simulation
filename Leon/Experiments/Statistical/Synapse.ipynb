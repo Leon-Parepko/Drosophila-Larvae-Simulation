{
 "cells": [
  {
   "cell_type": "markdown",
   "id": "af9afea3",
   "metadata": {},
   "source": [
    "* ### On builded **Graphs**"
   ]
  },
  {
   "cell_type": "code",
   "execution_count": null,
   "id": "119fa50f-f802-402f-aaba-ba66def603fb",
   "metadata": {},
   "outputs": [],
   "source": [
    "import networkx as nx\n",
    "import os\n",
    "os.chdir(\"../..\")"
   ]
  },
  {
   "cell_type": "code",
   "execution_count": 1,
   "id": "6caf5a16",
   "metadata": {},
   "outputs": [
    {
     "data": {
      "text/plain": [
       "{'slab': 143,\n",
       " 'end': 60,\n",
       " 'root': 1,\n",
       " 'branch': 6,\n",
       " 'Postsynaptic': 35,\n",
       " 'Presynaptic': 74}"
      ]
     },
     "execution_count": 1,
     "metadata": {},
     "output_type": "execute_result"
    }
   ],
   "source": [
    "skid = 10167116\n",
    "G = nx.read_gml(f'./Neurons_Metadata/Graphs/neurons/{skid}.gml')\n",
    "\n",
    "node_types_count = {}\n",
    "for node in G.nodes(data=True):\n",
    "    node_attributes = node[1]\n",
    "    if 'type' in node_attributes:\n",
    "        node_type = node_attributes['type']\n",
    "        if node_type in node_types_count:\n",
    "            node_types_count[node_type] += 1\n",
    "        else:\n",
    "            node_types_count[node_type] = 1\n",
    "            \n",
    "node_types_count"
   ]
  },
  {
   "cell_type": "code",
   "execution_count": 4,
   "id": "bbdc1760-2241-433b-8ddd-5fe568beb64e",
   "metadata": {},
   "outputs": [
    {
     "name": "stdout",
     "output_type": "stream",
     "text": [
      "end: 4101\n",
      "slab: 8964\n",
      "branch: 1324\n",
      "root: 20\n",
      "connector: 7474\n"
     ]
    }
   ],
   "source": [
    "import networkx as nx\n",
    "from collections import Counter\n",
    "\n",
    "\n",
    "\n",
    "# Загружаем граф\n",
    "G = nx.read_gml('./Drosophila-Larvae-Simulation/Datasets/Generated/test_graph_20n.gml')\n",
    "\n",
    "# Считаем количество узлов каждого типа (если атрибут называется 'type')\n",
    "node_types = [G.nodes[n].get('type', 'unknown') for n in G.nodes]\n",
    "type_counts = Counter(node_types)\n",
    "\n",
    "# Выводим\n",
    "for t, count in type_counts.items():\n",
    "    print(f\"{t}: {count}\")\n"
   ]
  }
 ],
 "metadata": {
  "kernelspec": {
   "display_name": "Python 3 (ipykernel)",
   "language": "python",
   "name": "python3"
  },
  "language_info": {
   "codemirror_mode": {
    "name": "ipython",
    "version": 3
   },
   "file_extension": ".py",
   "mimetype": "text/x-python",
   "name": "python",
   "nbconvert_exporter": "python",
   "pygments_lexer": "ipython3",
   "version": "3.9.23"
  }
 },
 "nbformat": 4,
 "nbformat_minor": 5
}
