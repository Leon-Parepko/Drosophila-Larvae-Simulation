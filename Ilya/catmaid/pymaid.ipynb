{
 "cells": [
  {
   "cell_type": "markdown",
   "id": "b885bdac",
   "metadata": {},
   "source": [
    "# pymaid\n",
    "installation: pip3 install python-catmaid"
   ]
  },
  {
   "cell_type": "code",
   "execution_count": null,
   "id": "b37d3d9d",
   "metadata": {},
   "outputs": [],
   "source": [
    "import pymaid\n",
    "\n",
    "catmaid_url = 'https://l1em.catmaid.virtualflybrain.org'\n",
    "http_user = None\n",
    "http_password = None\n",
    "project_id = 1\n",
    "\n",
    "rm = pymaid.CatmaidInstance(catmaid_url, http_user, http_password, project_id)"
   ]
  },
  {
   "cell_type": "code",
   "execution_count": null,
   "id": "cfad5f8a",
   "metadata": {},
   "outputs": [],
   "source": [
    "# Получить нейрон по skeleton ID\n",
    "neuron = pymaid.get_neuron(8980589)\n",
    "print(neuron)"
   ]
  },
  {
   "cell_type": "code",
   "execution_count": null,
   "id": "cac7e9f4",
   "metadata": {},
   "outputs": [],
   "source": [
    "%pip install \"nbformat>=4.2.0\""
   ]
  },
  {
   "cell_type": "code",
   "execution_count": null,
   "id": "29fc3e79",
   "metadata": {},
   "outputs": [],
   "source": [
    "neuron.plot3d(connectors = True)"
   ]
  }
 ],
 "metadata": {
  "kernelspec": {
   "display_name": ".venv (3.11.5)",
   "language": "python",
   "name": "python3"
  },
  "language_info": {
   "codemirror_mode": {
    "name": "ipython",
    "version": 3
   },
   "file_extension": ".py",
   "mimetype": "text/x-python",
   "name": "python",
   "nbconvert_exporter": "python",
   "pygments_lexer": "ipython3",
   "version": "3.11.5"
  }
 },
 "nbformat": 4,
 "nbformat_minor": 5
}
