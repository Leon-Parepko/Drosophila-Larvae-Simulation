{
 "cells": [
  {
   "cell_type": "markdown",
   "id": "b885bdac",
   "metadata": {},
   "source": [
    "# pymaid\n",
    "installation: pip3 install python-catmaid"
   ]
  },
  {
   "cell_type": "code",
   "execution_count": null,
   "id": "b5278efa",
   "metadata": {},
   "outputs": [],
   "source": [
    "%pip install \"nbformat>=4.2.0\""
   ]
  },
  {
   "cell_type": "code",
   "execution_count": null,
   "id": "88ba858a",
   "metadata": {},
   "outputs": [],
   "source": [
    "import pandas as pd"
   ]
  },
  {
   "cell_type": "code",
   "execution_count": null,
   "id": "b37d3d9d",
   "metadata": {},
   "outputs": [],
   "source": [
    "import pymaid\n",
    "\n",
    "catmaid_url = 'https://l1em.catmaid.virtualflybrain.org'\n",
    "http_user = None\n",
    "http_password = None\n",
    "project_id = 1\n",
    "\n",
    "rm = pymaid.CatmaidInstance(catmaid_url, http_user, http_password, project_id)"
   ]
  },
  {
   "cell_type": "code",
   "execution_count": null,
   "id": "cfad5f8a",
   "metadata": {},
   "outputs": [],
   "source": [
    "# Получить нейрон по skeleton ID\n",
    "neuron = pymaid.get_neuron(11081239)\n",
    "print(neuron)"
   ]
  },
  {
   "cell_type": "code",
   "execution_count": null,
   "id": "29fc3e79",
   "metadata": {},
   "outputs": [],
   "source": [
    "neuron.plot3d(connectors = True)"
   ]
  },
  {
   "cell_type": "code",
   "execution_count": null,
   "id": "8f00a315",
   "metadata": {},
   "outputs": [],
   "source": [
    "import navis\n",
    "\n",
    "\n",
    "volumes = pymaid.get_volume()['id']\n",
    "volumes = [pymaid.get_volume(ids) for ids in volumes]"
   ]
  },
  {
   "cell_type": "code",
   "execution_count": null,
   "id": "0886cd52",
   "metadata": {},
   "outputs": [],
   "source": [
    "\n",
    "navis.plot3d(volumes, alpha=0.5, linewidth=0.5)\n"
   ]
  },
  {
   "cell_type": "code",
   "execution_count": null,
   "id": "2a8c0855",
   "metadata": {},
   "outputs": [],
   "source": [
    "#navis.in_volume(pymaid.get)"
   ]
  },
  {
   "cell_type": "code",
   "execution_count": null,
   "id": "24b826a5",
   "metadata": {},
   "outputs": [],
   "source": [
    "# Получить аннотации (если они есть)\n",
    "connectors = pymaid.get_connectors([neuron])\n",
    "connectors"
   ]
  },
  {
   "cell_type": "code",
   "execution_count": null,
   "id": "c859a720",
   "metadata": {},
   "outputs": [],
   "source": [
    "#pymaid.get_nodes_in_volume(volumes[0])\n",
    "#def save_skeletons(neurons_ids):\n",
    "#    for ids in neurons_ids:\n",
    "nodes = neuron.nodes\n",
    "nodes\n"
   ]
  },
  {
   "cell_type": "code",
   "execution_count": null,
   "id": "6cdda903",
   "metadata": {},
   "outputs": [],
   "source": [
    "import numpy as np\n",
    "def get_matrix(nodes):    \n",
    "    node_id = pd.unique(nodes['node_id'])\n",
    "    parents = pd.unique(nodes['parent_id'])\n",
    "    all_nodes = list(set(node_id) | set(parents))\n",
    "    matrix = np.zeros([len(all_nodes), len(all_nodes)], np.bool)\n",
    "    keys = {idt:ind for ind, idt in enumerate(all_nodes)}\n",
    "    for idt, parent in zip(nodes['node_id'], nodes['parent_id']):\n",
    "        node_ind = keys[idt]\n",
    "        parent_ind = keys[parent]\n",
    "        matrix[node_ind][parent_ind] = True\n",
    "    return matrix\n",
    "    \n"
   ]
  },
  {
   "cell_type": "code",
   "execution_count": null,
   "id": "d625e526",
   "metadata": {},
   "outputs": [],
   "source": [
    "from matplotlib import pyplot as plt\n",
    "from pyvis.network import Network\n",
    "import networkx as nx\n",
    "matrix = get_matrix(neuron.nodes)\n",
    "G = nx.from_numpy_array(matrix)\n",
    "#plt.imshow(matrix)\n",
    "#plt.show()\n",
    "\n",
    "net = Network(notebook=False, directed=True,)\n",
    "net.show_buttons(filter_=['physics'])\n",
    "net.from_nx(G)\n",
    "net.save_graph('graph.html')"
   ]
  },
  {
   "cell_type": "code",
   "execution_count": null,
   "id": "592a99b3",
   "metadata": {},
   "outputs": [],
   "source": [
    "pymaid.get_connector_details(connectors)"
   ]
  },
  {
   "cell_type": "code",
   "execution_count": null,
   "id": "9e62c27e",
   "metadata": {},
   "outputs": [],
   "source": [
    "# Получить таблицу точек нейрона\n",
    "nodes = neuron.nodes\n",
    "\n",
    "# Посмотреть структуру таблицы\n",
    "print(nodes.head())\n",
    "\n",
    "# Если есть аннотации или типы ветвей, они будут в столбцах nodes\n"
   ]
  },
  {
   "cell_type": "markdown",
   "id": "2bd0f7a3",
   "metadata": {},
   "source": [
    "Help on package pymaid:\n",
    "\n",
    "NAME\n",
    "    pymaid\n",
    "\n",
    "PACKAGE CONTENTS\n",
    "    cache\n",
    "    client\n",
    "    cluster\n",
    "    config\n",
    "    connectivity\n",
    "    core\n",
    "    cytoscape\n",
    "    fetch (package)\n",
    "    morpho\n",
    "    neuron_label\n",
    "    stack\n",
    "    tiles\n",
    "    upload\n",
    "    user_stats\n",
    "    utils\n",
    "\n",
    "DATA\n",
    "    __version_vector__ = (2, 4, 2)\n",
    "    logger = <Logger pymaid (INFO)>\n",
    "\n",
    "VERSION\n",
    "    2.4.2\n",
    "\n",
    "FILE\n",
    "    d:\\iliuha_projects\\neurosci\\bbab\\drosophila-larvae-simulation\\.venv\\lib\\site-packages\\pymaid\\__init__.py\n",
    "\n"
   ]
  },
  {
   "cell_type": "code",
   "execution_count": null,
   "id": "001d8be4",
   "metadata": {},
   "outputs": [],
   "source": [
    "connectors"
   ]
  },
  {
   "cell_type": "code",
   "execution_count": null,
   "id": "1cc1264c",
   "metadata": {},
   "outputs": [],
   "source": [
    "#ids = [11081239, 12345678, 87654321]\n",
    "#connectome = pymaid.connectivity.core.\n",
    "#print(connectome)"
   ]
  }
 ],
 "metadata": {
  "kernelspec": {
   "display_name": ".venv (3.11.5)",
   "language": "python",
   "name": "python3"
  },
  "language_info": {
   "codemirror_mode": {
    "name": "ipython",
    "version": 3
   },
   "file_extension": ".py",
   "mimetype": "text/x-python",
   "name": "python",
   "nbconvert_exporter": "python",
   "pygments_lexer": "ipython3",
   "version": "3.11.5"
  }
 },
 "nbformat": 4,
 "nbformat_minor": 5
}
