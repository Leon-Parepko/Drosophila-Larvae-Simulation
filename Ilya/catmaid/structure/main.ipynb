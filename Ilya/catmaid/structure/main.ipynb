{
 "cells": [
  {
   "cell_type": "markdown",
   "id": "dcd7d74e",
   "metadata": {},
   "source": [
    "## Импорты"
   ]
  },
  {
   "cell_type": "code",
   "execution_count": 23,
   "id": "5e792a45",
   "metadata": {},
   "outputs": [],
   "source": [
    "import pandas as pd\n",
    "from matplotlib import pyplot as plt\n",
    "from pyvis.network import Network\n",
    "import networkx as nx"
   ]
  },
  {
   "cell_type": "markdown",
   "id": "9cfde899",
   "metadata": {},
   "source": [
    "CatmaidInstance"
   ]
  },
  {
   "cell_type": "code",
   "execution_count": 24,
   "id": "940ba7ae",
   "metadata": {},
   "outputs": [
    {
     "name": "stderr",
     "output_type": "stream",
     "text": [
      "INFO  : Global CATMAID instance set. Caching is ON. (pymaid)\n"
     ]
    }
   ],
   "source": [
    "import pymaid\n",
    "\n",
    "catmaid_url = 'https://l1em.catmaid.virtualflybrain.org'\n",
    "http_user = None\n",
    "http_password = None\n",
    "project_id = 1\n",
    "\n",
    "rm = pymaid.CatmaidInstance(catmaid_url, http_user, http_password, project_id)"
   ]
  },
  {
   "cell_type": "markdown",
   "id": "ade98940",
   "metadata": {},
   "source": [
    "## Класс для получения и сохранения структуры одного нейрона"
   ]
  },
  {
   "cell_type": "code",
   "execution_count": 25,
   "id": "3120d1d5",
   "metadata": {},
   "outputs": [],
   "source": [
    "class simplified_structure:\n",
    "    def __init__(self, neuron:pymaid.CatmaidNeuronList):\n",
    "        self.neuron:pymaid.CatmaidNeuronList = neuron\n",
    "        self.nodes:nx.MultiDiGraph = None\n",
    "        # названия в формате id_обекта, если знак id положителен, то это нода скелета, если отрицателен то это коннектор\n",
    "        self.build_structure()\n",
    "        self.add_connectors_to_graph()\n",
    "        self.simplify_directed_graph()\n",
    "\n",
    "    def build_structure(self):\n",
    "        nodes = self.neuron.nodes\n",
    "        graph = nx.MultiDiGraph()\n",
    "        for idt, parent, ntype in zip(nodes['node_id'], nodes['parent_id'], nodes['type']):\n",
    "            # сома это root\n",
    "            if (a:=idt >= 0):\n",
    "                graph.add_node(idt, type = ntype) \n",
    "            if (b:=parent >= 0):\n",
    "                graph.add_node(parent, type = ntype)\n",
    "            if a and b:\n",
    "                graph.add_edge(idt, parent, nodes_inside = [])\n",
    "        self.nodes = graph\n",
    "\n",
    "    def add_connectors_to_graph(self):\n",
    "        post_connectors = pymaid.get_connectors(self.neuron, 'postsynaptic_to')\n",
    "        for idt in post_connectors['connector_id']:\n",
    "            cID = -idt\n",
    "            q = self.neuron.connectors[self.neuron.connectors['connector_id'] == idt]\n",
    "            self.nodes.add_node(cID, type = 'Postsynaptic')\n",
    "            for node_id in q['node_id']:\n",
    "                self.nodes.add_edge(cID, node_id, nodes_inside = [])\n",
    "\n",
    "        pre_connectors = pymaid.get_connectors(self.neuron, 'presynaptic_to')\n",
    "        for idt in pre_connectors['connector_id']:\n",
    "            cID = -idt\n",
    "            q = self.neuron.connectors[self.neuron.connectors['connector_id'] == idt]\n",
    "            self.nodes.add_node(cID, type = 'Presynaptic')\n",
    "            for node_id in q['node_id']:\n",
    "                self.nodes.add_edge(node_id, cID, nodes_inside = [])\n",
    "\n",
    "    def simplify_directed_graph(self):\n",
    "        def keep_nodes(graph, vid):\n",
    "            return graph.nodes(True)[vid]['type'] == 'root' or vid < 0\n",
    "        G = self.nodes\n",
    "        original = len(self.nodes)\n",
    "        while True:\n",
    "            # Находим все вершины с in-degree=1 и out-degree=1\n",
    "            nodes_to_remove = [\n",
    "                node for node in G.nodes() \n",
    "                if G.in_degree(node) == 1 and G.out_degree(node) == 1 and not keep_nodes(G, node)\n",
    "            ]\n",
    "\n",
    "            if not nodes_to_remove:\n",
    "                break # Если таких вершин нет, завершаем\n",
    "\n",
    "            for node in nodes_to_remove:\n",
    "                # Если узел уже был удален на предыдущей итерации этого же цикла, пропускаем\n",
    "                if node not in G: \n",
    "                    continue\n",
    "\n",
    "                # Получаем единственного предшественника и преемника\n",
    "                # NetworkX гарантирует, что list(predecessors/successors) вернет один элемент,\n",
    "                # если степень равна 1.\n",
    "                u = list(G.predecessors(node))\n",
    "                v = list(G.successors(node))\n",
    "\n",
    "                if len(u) != 1 or len(v) != 1:\n",
    "                    raise Exception('Этот эксепшен не должен никогда вызватся, но он вызвался и значит что то пошло не так')\n",
    "                u = u[0]\n",
    "                v = v[0]\n",
    "\n",
    "                nodes_inside = sum((edge[-1]['nodes_inside'] for edge in G.edges(node, data = True)), [])\n",
    "                    \n",
    "                if u != v:\n",
    "                    G.add_edge(u, v, nodes_inside = [node] + nodes_inside)\n",
    "\n",
    "                G.remove_node(node)\n",
    "\n",
    "        after = len(self.nodes)\n",
    "        print('removed', original - after, 'nodes.', f'Efficiency: {round(100*(1 - after/original), 1)}%')\n",
    "\n",
    "    def save_as_nx_graph(self, path):\n",
    "        nx.write_gml(self.nodes, path)\n",
    "\n",
    "    def save_as_pyvis_html(self, path):\n",
    "        net = Network(notebook = False, directed = True)\n",
    "        net.from_nx(self.nodes)\n",
    "        for node in net.nodes:\n",
    "            node['label'] = node['type']\n",
    "            if node['type'] == 'root':\n",
    "                node['size'] = 30\n",
    "            if node['id'] < 0:\n",
    "                node['color'] = 'orange'\n",
    "                node['size'] = 5\n",
    "\n",
    "        net.show_buttons(filter_=['physics'])\n",
    "        net.save_graph(path)"
   ]
  },
  {
   "cell_type": "markdown",
   "id": "10ca8577",
   "metadata": {},
   "source": [
    "## Тестируем simplified_structure"
   ]
  },
  {
   "cell_type": "code",
   "execution_count": 26,
   "id": "01c6aeda",
   "metadata": {},
   "outputs": [],
   "source": [
    "import os\n",
    "\n",
    "class composed_network:\n",
    "    def __init__(self, paths):\n",
    "        self.paths = paths\n",
    "        self.graphs = {}\n",
    "        for path in paths:\n",
    "            self.graphs[path] = nx.read_gml(path)\n",
    "            for node_id, attr_dict in self.graphs[path].nodes(True):\n",
    "                filename = os.path.basename(path)\n",
    "                attr_dict['owner'] = filename\n",
    "\n",
    "        self.combined_graph = nx.compose_all(self.graphs.values())\n",
    "\n",
    "    def save_as_gml(self, path):\n",
    "        nx.write_gml(self.combined_graph, path)\n",
    "\n",
    "    def save_as_pyvis_html(self, path, colors:dict = None):\n",
    "        net = Network(notebook=False, directed=True)\n",
    "        net.from_nx(self.combined_graph)\n",
    "        net.show_buttons(filter_=['physics'])\n",
    "        for node in net.nodes:\n",
    "            if node['type'] == 'root':\n",
    "                node['size'] = 30\n",
    "            if int(node['id']) < 0:\n",
    "                node['shape'] = 'square'\n",
    "                node['size'] = 5\n",
    "                node['color'] = 'orange'\n",
    "                if node['type'] not in ('Postsynaptic', 'Presynaptic'):\n",
    "                    node['label'] = node['type']\n",
    "                else:\n",
    "                    node['label'] = None\n",
    "            else:\n",
    "                node['label'] = node['type']\n",
    "                    \n",
    "        if colors:\n",
    "            for node in net.nodes:\n",
    "                if int(node['id']) > 0:\n",
    "                    if node['owner'] in colors:\n",
    "                        node['color'] = colors[node['owner']]\n",
    "        net.save_graph(path)"
   ]
  },
  {
   "cell_type": "code",
   "execution_count": 27,
   "id": "1d22b1da",
   "metadata": {},
   "outputs": [],
   "source": [
    "A = pymaid.get_neuron(9469519)\n",
    "B = pymaid.get_neuron(29)"
   ]
  },
  {
   "cell_type": "code",
   "execution_count": 28,
   "id": "f30536a1",
   "metadata": {},
   "outputs": [],
   "source": [
    "#S = simplified_structure(B)\n",
    "#S.save_as_pyvis_html(f'visualizaions/test/graph_of_{B.id}.html')"
   ]
  },
  {
   "cell_type": "markdown",
   "id": "160e8959",
   "metadata": {},
   "source": [
    "## Класс для объединения структур нескольких нейронов"
   ]
  },
  {
   "cell_type": "code",
   "execution_count": 29,
   "id": "1b35022c",
   "metadata": {},
   "outputs": [
    {
     "name": "stderr",
     "output_type": "stream",
     "text": [
      "INFO  : Cached data used. Use `pymaid.clear_cache()` to clear. (pymaid)\n"
     ]
    },
    {
     "name": "stdout",
     "output_type": "stream",
     "text": [
      "removed 3612 nodes. Efficiency: 76.2%\n"
     ]
    },
    {
     "name": "stderr",
     "output_type": "stream",
     "text": [
      "INFO  : Cached data used. Use `pymaid.clear_cache()` to clear. (pymaid)\n",
      "INFO  : Cached data used. Use `pymaid.clear_cache()` to clear. (pymaid)\n"
     ]
    },
    {
     "name": "stdout",
     "output_type": "stream",
     "text": [
      "removed 2442 nodes. Efficiency: 75.7%\n"
     ]
    }
   ],
   "source": [
    "a = simplified_structure(A)\n",
    "b = simplified_structure(B)"
   ]
  },
  {
   "cell_type": "code",
   "execution_count": 30,
   "id": "824ea6de",
   "metadata": {},
   "outputs": [],
   "source": [
    "a.save_as_nx_graph(f'./neurons/{a.neuron.id}.gml')\n",
    "b.save_as_nx_graph(f'./neurons/{b.neuron.id}.gml')"
   ]
  },
  {
   "cell_type": "code",
   "execution_count": 31,
   "id": "9e270dbf",
   "metadata": {},
   "outputs": [],
   "source": [
    "\n",
    "s = composed_network([f'./neurons/{b.neuron.id}.gml', f'./neurons/{a.neuron.id}.gml'])\n",
    "s.save_as_gml('./combined.gml')\n",
    "s.save_as_pyvis_html(f\"./neurons/visual/ns{a.neuron.id}_and_{b.neuron.id}.html\", colors = {\n",
    "    str(a.neuron.id) + '.gml': 'blue',\n",
    "    str(b.neuron.id) + '.gml': 'green',\n",
    "})"
   ]
  },
  {
   "cell_type": "code",
   "execution_count": 32,
   "id": "04442364",
   "metadata": {},
   "outputs": [
    {
     "name": "stderr",
     "output_type": "stream",
     "text": [
      "INFO  : Cached data used. Use `pymaid.clear_cache()` to clear. (pymaid)\n",
      "INFO  : Cached data used. Use `pymaid.clear_cache()` to clear. (pymaid)\n"
     ]
    },
    {
     "name": "stdout",
     "output_type": "stream",
     "text": [
      "removed 2872 nodes. Efficiency: 65.9%\n"
     ]
    },
    {
     "name": "stderr",
     "output_type": "stream",
     "text": [
      "INFO  : Cached data used. Use `pymaid.clear_cache()` to clear. (pymaid)\n",
      "INFO  : Cached data used. Use `pymaid.clear_cache()` to clear. (pymaid)\n"
     ]
    },
    {
     "name": "stdout",
     "output_type": "stream",
     "text": [
      "removed 2021 nodes. Efficiency: 81.3%\n"
     ]
    },
    {
     "name": "stderr",
     "output_type": "stream",
     "text": [
      "INFO  : Cached data used. Use `pymaid.clear_cache()` to clear. (pymaid)\n",
      "INFO  : Cached data used. Use `pymaid.clear_cache()` to clear. (pymaid)\n"
     ]
    },
    {
     "name": "stdout",
     "output_type": "stream",
     "text": [
      "removed 3247 nodes. Efficiency: 79.8%\n"
     ]
    },
    {
     "name": "stderr",
     "output_type": "stream",
     "text": [
      "INFO  : Cached data used. Use `pymaid.clear_cache()` to clear. (pymaid)\n",
      "INFO  : Cached data used. Use `pymaid.clear_cache()` to clear. (pymaid)\n"
     ]
    },
    {
     "name": "stdout",
     "output_type": "stream",
     "text": [
      "removed 3018 nodes. Efficiency: 74.9%\n"
     ]
    },
    {
     "name": "stderr",
     "output_type": "stream",
     "text": [
      "INFO  : Cached data used. Use `pymaid.clear_cache()` to clear. (pymaid)\n",
      "INFO  : Cached data used. Use `pymaid.clear_cache()` to clear. (pymaid)\n"
     ]
    },
    {
     "name": "stdout",
     "output_type": "stream",
     "text": [
      "removed 3434 nodes. Efficiency: 85.7%\n"
     ]
    },
    {
     "name": "stderr",
     "output_type": "stream",
     "text": [
      "INFO  : Cached data used. Use `pymaid.clear_cache()` to clear. (pymaid)\n",
      "INFO  : Cached data used. Use `pymaid.clear_cache()` to clear. (pymaid)\n"
     ]
    },
    {
     "name": "stdout",
     "output_type": "stream",
     "text": [
      "removed 2589 nodes. Efficiency: 78.1%\n"
     ]
    },
    {
     "name": "stderr",
     "output_type": "stream",
     "text": [
      "INFO  : Cached data used. Use `pymaid.clear_cache()` to clear. (pymaid)\n",
      "INFO  : Cached data used. Use `pymaid.clear_cache()` to clear. (pymaid)\n"
     ]
    },
    {
     "name": "stdout",
     "output_type": "stream",
     "text": [
      "removed 2768 nodes. Efficiency: 74.7%\n"
     ]
    },
    {
     "name": "stderr",
     "output_type": "stream",
     "text": [
      "INFO  : Cached data used. Use `pymaid.clear_cache()` to clear. (pymaid)\n",
      "INFO  : Cached data used. Use `pymaid.clear_cache()` to clear. (pymaid)\n"
     ]
    },
    {
     "name": "stdout",
     "output_type": "stream",
     "text": [
      "removed 2422 nodes. Efficiency: 82.1%\n"
     ]
    },
    {
     "name": "stderr",
     "output_type": "stream",
     "text": [
      "INFO  : Cached data used. Use `pymaid.clear_cache()` to clear. (pymaid)\n",
      "INFO  : Cached data used. Use `pymaid.clear_cache()` to clear. (pymaid)\n"
     ]
    },
    {
     "name": "stdout",
     "output_type": "stream",
     "text": [
      "removed 4012 nodes. Efficiency: 77.6%\n"
     ]
    },
    {
     "name": "stderr",
     "output_type": "stream",
     "text": [
      "INFO  : Cached data used. Use `pymaid.clear_cache()` to clear. (pymaid)\n",
      "INFO  : Cached data used. Use `pymaid.clear_cache()` to clear. (pymaid)\n"
     ]
    },
    {
     "name": "stdout",
     "output_type": "stream",
     "text": [
      "removed 4688 nodes. Efficiency: 84.4%\n"
     ]
    },
    {
     "name": "stderr",
     "output_type": "stream",
     "text": [
      "INFO  : Cached data used. Use `pymaid.clear_cache()` to clear. (pymaid)\n",
      "INFO  : Cached data used. Use `pymaid.clear_cache()` to clear. (pymaid)\n"
     ]
    },
    {
     "name": "stdout",
     "output_type": "stream",
     "text": [
      "removed 5386 nodes. Efficiency: 72.8%\n"
     ]
    },
    {
     "name": "stderr",
     "output_type": "stream",
     "text": [
      "INFO  : Cached data used. Use `pymaid.clear_cache()` to clear. (pymaid)\n",
      "INFO  : Cached data used. Use `pymaid.clear_cache()` to clear. (pymaid)\n"
     ]
    },
    {
     "name": "stdout",
     "output_type": "stream",
     "text": [
      "removed 3361 nodes. Efficiency: 78.0%\n"
     ]
    },
    {
     "name": "stderr",
     "output_type": "stream",
     "text": [
      "INFO  : Cached data used. Use `pymaid.clear_cache()` to clear. (pymaid)\n",
      "INFO  : Cached data used. Use `pymaid.clear_cache()` to clear. (pymaid)\n"
     ]
    },
    {
     "name": "stdout",
     "output_type": "stream",
     "text": [
      "removed 3856 nodes. Efficiency: 80.2%\n"
     ]
    },
    {
     "name": "stderr",
     "output_type": "stream",
     "text": [
      "INFO  : Cached data used. Use `pymaid.clear_cache()` to clear. (pymaid)\n",
      "INFO  : Cached data used. Use `pymaid.clear_cache()` to clear. (pymaid)\n"
     ]
    },
    {
     "name": "stdout",
     "output_type": "stream",
     "text": [
      "removed 3545 nodes. Efficiency: 77.9%\n"
     ]
    },
    {
     "name": "stderr",
     "output_type": "stream",
     "text": [
      "INFO  : Cached data used. Use `pymaid.clear_cache()` to clear. (pymaid)\n",
      "INFO  : Cached data used. Use `pymaid.clear_cache()` to clear. (pymaid)\n"
     ]
    },
    {
     "name": "stdout",
     "output_type": "stream",
     "text": [
      "removed 4216 nodes. Efficiency: 80.9%\n"
     ]
    },
    {
     "name": "stderr",
     "output_type": "stream",
     "text": [
      "INFO  : Cached data used. Use `pymaid.clear_cache()` to clear. (pymaid)\n",
      "INFO  : Cached data used. Use `pymaid.clear_cache()` to clear. (pymaid)\n"
     ]
    },
    {
     "name": "stdout",
     "output_type": "stream",
     "text": [
      "removed 3824 nodes. Efficiency: 80.6%\n"
     ]
    },
    {
     "name": "stderr",
     "output_type": "stream",
     "text": [
      "INFO  : Cached data used. Use `pymaid.clear_cache()` to clear. (pymaid)\n",
      "INFO  : Cached data used. Use `pymaid.clear_cache()` to clear. (pymaid)\n"
     ]
    },
    {
     "name": "stdout",
     "output_type": "stream",
     "text": [
      "removed 2064 nodes. Efficiency: 76.5%\n"
     ]
    },
    {
     "name": "stderr",
     "output_type": "stream",
     "text": [
      "INFO  : Cached data used. Use `pymaid.clear_cache()` to clear. (pymaid)\n",
      "INFO  : Cached data used. Use `pymaid.clear_cache()` to clear. (pymaid)\n"
     ]
    },
    {
     "name": "stdout",
     "output_type": "stream",
     "text": [
      "removed 4153 nodes. Efficiency: 67.3%\n"
     ]
    },
    {
     "name": "stderr",
     "output_type": "stream",
     "text": [
      "INFO  : Cached data used. Use `pymaid.clear_cache()` to clear. (pymaid)\n",
      "INFO  : Cached data used. Use `pymaid.clear_cache()` to clear. (pymaid)\n"
     ]
    },
    {
     "name": "stdout",
     "output_type": "stream",
     "text": [
      "removed 6870 nodes. Efficiency: 67.9%\n"
     ]
    },
    {
     "name": "stderr",
     "output_type": "stream",
     "text": [
      "INFO  : Cached data used. Use `pymaid.clear_cache()` to clear. (pymaid)\n",
      "INFO  : Cached data used. Use `pymaid.clear_cache()` to clear. (pymaid)\n"
     ]
    },
    {
     "name": "stdout",
     "output_type": "stream",
     "text": [
      "removed 3824 nodes. Efficiency: 74.4%\n"
     ]
    }
   ],
   "source": [
    "ids = ['7055857', '1805418', '14260575', '5835799', '10160250', '7840203', '5019924', '13986477', '10167078', '7982896', '4119387', '17591442', '4227544', '10495502', '8069478', '3913629', '11279244', '16846805', '8980589', '3664102']\n",
    "paths = []\n",
    "for ind in ids:\n",
    "    A = pymaid.get_neuron(int(ind))\n",
    "    path = \"./del_this/neurons/\" + ind + \".gml\"\n",
    "    Q = simplified_structure(A)\n",
    "    Q.save_as_nx_graph(path)\n",
    "    paths.append(path)"
   ]
  },
  {
   "cell_type": "code",
   "execution_count": 33,
   "id": "d0949dcb",
   "metadata": {},
   "outputs": [],
   "source": [
    "S = composed_network(paths)\n",
    "S.save_as_gml(\"./del_this/cs_ns_combined.gml\")"
   ]
  }
 ],
 "metadata": {
  "kernelspec": {
   "display_name": ".venv (3.11.5)",
   "language": "python",
   "name": "python3"
  },
  "language_info": {
   "codemirror_mode": {
    "name": "ipython",
    "version": 3
   },
   "file_extension": ".py",
   "mimetype": "text/x-python",
   "name": "python",
   "nbconvert_exporter": "python",
   "pygments_lexer": "ipython3",
   "version": "3.11.5"
  }
 },
 "nbformat": 4,
 "nbformat_minor": 5
}
