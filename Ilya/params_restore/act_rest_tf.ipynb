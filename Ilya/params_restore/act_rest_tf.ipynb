{
  "cells": [
    {
      "cell_type": "code",
      "execution_count": null,
      "id": "c7f64ade",
      "metadata": {
        "id": "c7f64ade"
      },
      "outputs": [],
      "source": [
        "import tensorflow as tf\n",
        "import numpy as np\n",
        "import matplotlib.pyplot as plt"
      ]
    },
    {
      "cell_type": "code",
      "execution_count": null,
      "id": "657bac28",
      "metadata": {
        "id": "657bac28"
      },
      "outputs": [],
      "source": [
        "plt.style.use('dark_background')"
      ]
    },
    {
      "cell_type": "code",
      "execution_count": null,
      "id": "daad67b0",
      "metadata": {
        "id": "daad67b0"
      },
      "outputs": [],
      "source": [
        "def form_perceptron(layers, activation_function = None, input_shape = None):\n",
        "    if activation_function is None:\n",
        "        activation_function = 'leaky_relu'\n",
        "    model = tf.keras.Sequential([tf.keras.layers.Dense(l, activation_function) for l in layers])\n",
        "    if input_shape is not None:\n",
        "        model.build(input_shape)\n",
        "    return model\n",
        "\n",
        "@tf.function\n",
        "def xwx(w, x):\n",
        "    return x @ w @ x\n",
        "\n",
        "class activity_container:\n",
        "    def __init__(self, activity, time_interval, ignore = None, optimizer = None):\n",
        "        if ignore is None:\n",
        "            ignore = []\n",
        "        self.time_interval = time_interval\n",
        "        self.resolution = activity.shape[0]\n",
        "        self.optimizer = tf.keras.optimizers.Adam() if optimizer is None else optimizer\n",
        "        self.activity = tf.constant(activity, dtype=tf.float32)\n",
        "        self.d_activity = tf.constant(np.gradient(activity, axis=-1), dtype=tf.float32)\n",
        "\n",
        "\n",
        "    @tf.function\n",
        "    def __call__(self, t):\n",
        "        pass\n",
        "\n",
        "    @property\n",
        "    def params(self):\n",
        "        pass\n",
        "\n",
        "    @tf.function\n",
        "    def d_dt(self, time):\n",
        "        with tf.GradientTape() as tape:\n",
        "            tape.watch(time)\n",
        "            a = self(time)\n",
        "\n",
        "        grad = tape.jacobian(a, time)\n",
        "        return tf.squeeze(grad)\n",
        "\n",
        "\n",
        "    @tf.function\n",
        "    def loss(self):\n",
        "        ot = tf.linspace(self.time_interval[0], self.time_interval[1], self.resolution)\n",
        "        time = tf.reshape(ot, (self.resolution, 1))\n",
        "        # Use tf.vectorized_map to apply d_dt over the time tensor\n",
        "        dirs = tf.vectorized_map(lambda t: self.d_dt(tf.reshape(t, (1, 1))), ot)\n",
        "        A = tf.reduce_mean(tf.metrics.mse(self(time), self.activity))\n",
        "        B = tf.reduce_mean(tf.metrics.mse(dirs, self.d_activity))\n",
        "        return A + B\n",
        "\n",
        "    def optimize(self, epochs):\n",
        "        LH = []\n",
        "        for _ in range(epochs):\n",
        "            with tf.GradientTape() as tape:\n",
        "                loss_value = self.loss()\n",
        "                grads = tape.gradient(loss_value, self.params)\n",
        "                self.optimizer.apply_gradients(zip(grads, self.params))\n",
        "            LH.append(loss_value.numpy())\n",
        "        return LH\n",
        "\n",
        "class model_container(activity_container):\n",
        "    def __init__(self, model, activity, time_interval, ignore=None, optimizer=None):\n",
        "        super().__init__(activity, time_interval, ignore, optimizer)\n",
        "        self.model:tf.keras.Model = model\n",
        "\n",
        "    @property\n",
        "    def params(self):\n",
        "        return self.model.trainable_variables\n",
        "\n",
        "    @tf.function\n",
        "    def __call__(self, time):\n",
        "        return self.model(time)\n",
        "\n",
        "class furie_container(model_container):\n",
        "    def __init__(self, activity, time_interval, ignore=None, optimizer=None):\n",
        "        t = tf.keras.layers.Input(shape = (1, ))\n",
        "        s = tf.keras.layers.Dense(activity.shape[1], tf.sin, use_bias = False)(t)\n",
        "        c = tf.keras.layers.Dense(activity.shape[1], tf.cos, use_bias = False)(t)\n",
        "        a = tf.keras.layers.add([s, c])\n",
        "        m = tf.keras.Model(inputs = t, outputs = a)\n",
        "        #m.build(1)\n",
        "        super().__init__(m, activity, time_interval, ignore, optimizer)"
      ]
    },
    {
      "cell_type": "code",
      "execution_count": null,
      "id": "2d45b296",
      "metadata": {
        "id": "2d45b296"
      },
      "outputs": [],
      "source": [
        "class solver:\n",
        "  def __init__(self, dt = 0.1, **rules):\n",
        "    self.rules = rules\n",
        "    self.params = rules.keys()\n",
        "    self.dt = dt\n",
        "\n",
        "  def update(self):\n",
        "    self.set_to(**{name:getattr(self, name) + self.rules[name](**{name:getattr(self, name) for name in self.rules})*self.dt for name in self.rules})\n",
        "\n",
        "  def set_to(self, **values):\n",
        "    for j in values:\n",
        "      setattr(self, j, values[j])\n",
        "\n",
        "  def solve(self, t_end, t_start = 0):\n",
        "    self.t = t_start\n",
        "    history = {name:[] for name in self.rules}\n",
        "    history['t'] = []\n",
        "    while self.t < t_end:\n",
        "      self.update()\n",
        "      for j in history:\n",
        "        history[j].append(getattr(self, j))\n",
        "      self.t += self.dt\n",
        "    delattr(self, 't')\n",
        "    for j in history:\n",
        "      history[j] = np.array(history[j])\n",
        "    return history\n",
        "\n",
        "class xwx(solver):\n",
        "    def __init__(self, W, dt=0.1):\n",
        "        self.W = W\n",
        "        super().__init__(dt, x = lambda x: x @ self.W @ x)\n",
        "\n",
        "def xwx_ddx_dt_dx(x, w):\n",
        "    \"dx/dt [t] respect to x[q] = xwx_dx_dt_dx(x, w, t)[i][q]\"\n",
        "    return w @ x + x @ w\n",
        "\n",
        "def generate_connections(groups, group_complexity, group_density = 0.5, noise = 1, noise_density = 0.3, group_recurent_rate = 0.5):\n",
        "    return \\\n",
        "    np.repeat(np.repeat((1-group_recurent_rate)*(np.random.sample([groups, groups]) < group_density) + group_recurent_rate*np.eye(groups, groups), group_complexity, 0), group_complexity, 1) * np.random.uniform(-1, 1, [group_complexity*groups]*2) + \\\n",
        "    noise * np.random.uniform(-1, 1, [group_complexity*groups]*2) * (np.random.sample([group_complexity*groups]*2) < noise_density) # skip connections\n",
        "\n",
        "def generate_multiple_connections(C):\n",
        "    N = C.shape[0]\n",
        "    return (np.random.uniform(-1, 1, [N]*3)) * C\n",
        "\n",
        "def generate_activity(W, t_end = 10, dt = 0.001):\n",
        "    s = xwx(W, dt = dt)\n",
        "    s.x = np.random.uniform(-1, 1, W.shape[0])\n",
        "    h = s.solve(t_end)\n",
        "    return h\n",
        "\n",
        "def add_axis(a):\n",
        "    return np.reshape(a, (-1, 1))\n",
        "\n",
        "def generate_dataset(activity):\n",
        "    dx_dt = (activity['x'][1:] - activity['x'][:-1]) / add_axis(activity['t'][1:] - activity['t'][:-1])\n",
        "    xx = np.array([np.kron(x, x).flatten() for x in activity['x']])\n",
        "    return xx[:-1], dx_dt\n",
        "\n",
        "def plot_activity(d, var_count = 2):\n",
        "    fig, ax = plt.subplots(var_count, 1)\n",
        "    for n, i in enumerate(ax):\n",
        "        i.plot(d['t'], d['x'][:, n])\n",
        "    plt.show()"
      ]
    },
    {
      "cell_type": "code",
      "execution_count": null,
      "id": "0d0ab2ff",
      "metadata": {
        "colab": {
          "base_uri": "https://localhost:8080/",
          "height": 430
        },
        "id": "0d0ab2ff",
        "outputId": "4e4f7899-f185-43b6-d938-7118311af8c5"
      },
      "outputs": [],
      "source": [
        "N = 10\n",
        "w = np.random.uniform(-1, 1, (N, N, N))\n",
        "w = 5*(w - w.T)\n",
        "activity_t = generate_activity(w, 1)\n",
        "plot_activity(activity_t, 3)"
      ]
    },
    {
      "cell_type": "code",
      "execution_count": null,
      "id": "0a5c7a4a",
      "metadata": {
        "id": "0a5c7a4a"
      },
      "outputs": [],
      "source": [
        "f = model_container(form_perceptron([10, 10, activity_t['x'].shape[1]], input_shape=[1, 1], activation_function='leaky_relu'), activity_t['x'], (0, 1))\n",
        "#f = furie_container(activity_t['x'], (0, 1))"
      ]
    },
    {
      "cell_type": "code",
      "execution_count": null,
      "id": "f4d51a17",
      "metadata": {
        "colab": {
          "base_uri": "https://localhost:8080/",
          "height": 430
        },
        "id": "f4d51a17",
        "outputId": "7f6f308f-e5bb-4933-832d-3720cb59542e"
      },
      "outputs": [],
      "source": [
        "plt.plot(f.optimize(100))\n",
        "plt.show()"
      ]
    },
    {
      "cell_type": "code",
      "execution_count": null,
      "id": "21d24d15",
      "metadata": {
        "colab": {
          "base_uri": "https://localhost:8080/",
          "height": 843
        },
        "id": "21d24d15",
        "outputId": "85431432-d7de-4098-876f-78f03bf3baed"
      },
      "outputs": [],
      "source": [
        "t = tf.linspace(0, 1, 100)\n",
        "output = f(tf.reshape(t, (100, 1))).numpy()\n",
        "plot_activity({'x':output, 't':t}, 3)\n",
        "plot_activity(activity_t, 3)"
      ]
    },
    {
      "cell_type": "code",
      "execution_count": null,
      "id": "5738342f",
      "metadata": {
        "colab": {
          "base_uri": "https://localhost:8080/"
        },
        "id": "5738342f",
        "outputId": "13215a5a-7d6a-4630-e1e0-c09092fb354f"
      },
      "outputs": [],
      "source": [
        "#plot_activity({'x':[f.d_dt() for ti in t], 't':t}, 3)\n",
        "#plot_activity({\"x\":np.gradient(output, axis=-1), 't':t}, 3)\n",
        "#plot_activity({\"x\":np.gradient(activity_t['x'], axis=-1), 't':activity_t['t']}, 3)\n",
        "\n",
        "f.d_dt(tf.reshape(t[0], (1, 1)))"
      ]
    }
  ],
  "metadata": {
    "colab": {
      "provenance": []
    },
    "kernelspec": {
      "display_name": "Python 3",
      "language": "python",
      "name": "python3"
    },
    "language_info": {
      "codemirror_mode": {
        "name": "ipython",
        "version": 3
      },
      "file_extension": ".py",
      "mimetype": "text/x-python",
      "name": "python",
      "nbconvert_exporter": "python",
      "pygments_lexer": "ipython3",
      "version": "3.11.5"
    }
  },
  "nbformat": 4,
  "nbformat_minor": 5
}
