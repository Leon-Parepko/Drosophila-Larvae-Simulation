{
 "cells": [
  {
   "cell_type": "code",
   "execution_count": 1,
   "id": "80bde9e7",
   "metadata": {},
   "outputs": [],
   "source": [
    "import networkx as nx\n",
    "import pandas as pd\n",
    "import os"
   ]
  },
  {
   "cell_type": "code",
   "execution_count": null,
   "id": "5d723635",
   "metadata": {},
   "outputs": [],
   "source": [
    "path_to_neurons = None\n",
    "paths = [neuron_path for neuron_path in os.listdir(path_to_neurons)]"
   ]
  },
  {
   "cell_type": "code",
   "execution_count": null,
   "id": "c7ae7f64",
   "metadata": {},
   "outputs": [],
   "source": [
    "for p in paths:\n",
    "    G:nx.DiGraph = nx.read_gml(p)\n",
    "    # получаем ноды\n",
    "    connectors = []\n",
    "    for n in G.nodes(data=True):\n",
    "        ind = int(n[0])\n"
   ]
  },
  {
   "cell_type": "code",
   "execution_count": null,
   "id": "d0ffc021",
   "metadata": {},
   "outputs": [],
   "source": [
    "full_g:nx.DiGraph = nx.read_gml(\"\")\n",
    "connectors = []\n",
    "for n in full_g.nodes(data = True):\n",
    "    ind = int(n[0])\n",
    "    \n",
    "    if ind < 0:\n",
    "        from_nodes = full_g.predecessors(n)\n",
    "        to_nodes = full_g.successors(n)\n",
    "        connectors.append([])"
   ]
  },
  {
   "cell_type": "code",
   "execution_count": null,
   "id": "d10db08d",
   "metadata": {},
   "outputs": [],
   "source": [
    "node_metadata = pd.read_csv(\"Neurons Metadata/Metadata/Metadata_Nodes(manual).csv\")\n",
    "def get_node_neuron(node_id):\n",
    "    return node_metadata[node_metadata['node_id'] == node_id]"
   ]
  },
  {
   "cell_type": "code",
   "execution_count": null,
   "id": "b3464a48",
   "metadata": {},
   "outputs": [],
   "source": [
    "import networkx as nx\n",
    "import pandas as pd\n",
    "import os\n",
    "import csv\n",
    "\n",
    "def process_graph_to_csv(combined_graph_path, output_csv_path):\n",
    "    # Load the combined graph\n",
    "    full_g = nx.read_gml(combined_graph_path)\n",
    "\n",
    "    # Prepare the CSV file with headers\n",
    "    with open(output_csv_path, mode='w', newline='', encoding='utf-8') as csvfile:\n",
    "        writer = csv.DictWriter(csvfile, fieldnames=[\"pre_neuron_id\", \"pre_node_id\", \"connector_id\", \"post_neuron_id\", \"post_node_id\"])\n",
    "        writer.writeheader()\n",
    "\n",
    "        # Process nodes in the combined graph\n",
    "        for n in full_g.nodes(data=True):\n",
    "            node_id = int(n[0])\n",
    "\n",
    "            # Check if the node is a connector\n",
    "            if node_id < 0:\n",
    "                connector_id = abs(node_id)\n",
    "                from_nodes = list(full_g.predecessors(n[0]))\n",
    "                to_nodes = list(full_g.successors(n[0]))\n",
    "\n",
    "                # Write presynaptic connections\n",
    "                for pre_node in from_nodes:\n",
    "                    pre_node_id = int(pre_node)\n",
    "                    pre_neuron_row = get_node_neuron(pre_node_id)\n",
    "                    pre_neuron_id = pre_neuron_row['neuron_id'].iloc[0] if not pre_neuron_row.empty else None\n",
    "                    writer.writerow({\n",
    "                        \"pre_neuron_id\": pre_neuron_id,\n",
    "                        \"pre_node_id\": pre_node,\n",
    "                        \"connector_id\": connector_id,\n",
    "                        \"post_neuron_id\": None,\n",
    "                        \"post_node_id\": None\n",
    "                    })\n",
    "\n",
    "                # Write postsynaptic connections\n",
    "                for post_node in to_nodes:\n",
    "                    post_node_id = int(post_node)\n",
    "                    post_neuron_row = get_node_neuron(post_node_id)\n",
    "                    post_neuron_id = post_neuron_row['neuron_id'].iloc[0] if not post_neuron_row.empty else None\n",
    "                    writer.writerow({\n",
    "                        \"pre_neuron_id\": None,\n",
    "                        \"pre_node_id\": None,\n",
    "                        \"connector_id\": connector_id,\n",
    "                        \"post_neuron_id\": post_neuron_id,\n",
    "                        \"post_node_id\": post_node\n",
    "                    })\n",
    "\n",
    "    print(f\"Synapse data saved to {output_csv_path}\")"
   ]
  },
  {
   "cell_type": "code",
   "execution_count": null,
   "id": "f0cc1ba9",
   "metadata": {},
   "outputs": [
    {
     "ename": "FileNotFoundError",
     "evalue": "[Errno 2] No such file or directory: 'Ilya/catmaid/structure/combined.gml'",
     "output_type": "error",
     "traceback": [
      "\u001b[31m---------------------------------------------------------------------------\u001b[39m",
      "\u001b[31mFileNotFoundError\u001b[39m                         Traceback (most recent call last)",
      "\u001b[36mCell\u001b[39m\u001b[36m \u001b[39m\u001b[32mIn[2]\u001b[39m\u001b[32m, line 1\u001b[39m\n\u001b[32m----> \u001b[39m\u001b[32m1\u001b[39m full_g = \u001b[43mnx\u001b[49m\u001b[43m.\u001b[49m\u001b[43mread_gml\u001b[49m\u001b[43m(\u001b[49m\u001b[33;43m\"\u001b[39;49m\u001b[33;43mIlya/catmaid/structure/combined.gml\u001b[39;49m\u001b[33;43m\"\u001b[39;49m\u001b[43m)\u001b[49m\n\u001b[32m      2\u001b[39m \u001b[38;5;28;01mfor\u001b[39;00m n \u001b[38;5;129;01min\u001b[39;00m full_g.nodes(data = \u001b[38;5;28;01mTrue\u001b[39;00m):\n\u001b[32m      3\u001b[39m     \u001b[38;5;28mprint\u001b[39m(n)\n",
      "\u001b[36mFile \u001b[39m\u001b[32md:\\Iliuha_projects\\neurosci\\bbab\\Drosophila-Larvae-Simulation\\.venv\\Lib\\site-packages\\networkx\\utils\\decorators.py:788\u001b[39m, in \u001b[36margmap.__call__.<locals>.func\u001b[39m\u001b[34m(_argmap__wrapper, *args, **kwargs)\u001b[39m\n\u001b[32m    787\u001b[39m \u001b[38;5;28;01mdef\u001b[39;00m\u001b[38;5;250m \u001b[39m\u001b[34mfunc\u001b[39m(*args, __wrapper=\u001b[38;5;28;01mNone\u001b[39;00m, **kwargs):\n\u001b[32m--> \u001b[39m\u001b[32m788\u001b[39m     \u001b[38;5;28;01mreturn\u001b[39;00m \u001b[43margmap\u001b[49m\u001b[43m.\u001b[49m\u001b[43m_lazy_compile\u001b[49m\u001b[43m(\u001b[49m\u001b[43m__wrapper\u001b[49m\u001b[43m)\u001b[49m\u001b[43m(\u001b[49m\u001b[43m*\u001b[49m\u001b[43margs\u001b[49m\u001b[43m,\u001b[49m\u001b[43m \u001b[49m\u001b[43m*\u001b[49m\u001b[43m*\u001b[49m\u001b[43mkwargs\u001b[49m\u001b[43m)\u001b[49m\n",
      "\u001b[36mFile \u001b[39m\u001b[32m<class 'networkx.utils.decorators.argmap'> compilation 6:3\u001b[39m, in \u001b[36margmap_read_gml_1\u001b[39m\u001b[34m(path, label, destringizer, backend, **backend_kwargs)\u001b[39m\n\u001b[32m      1\u001b[39m \u001b[38;5;28;01mimport\u001b[39;00m\u001b[38;5;250m \u001b[39m\u001b[34;01mbz2\u001b[39;00m\n\u001b[32m      2\u001b[39m \u001b[38;5;28;01mimport\u001b[39;00m\u001b[38;5;250m \u001b[39m\u001b[34;01mcollections\u001b[39;00m\n\u001b[32m----> \u001b[39m\u001b[32m3\u001b[39m \u001b[38;5;28;01mimport\u001b[39;00m\u001b[38;5;250m \u001b[39m\u001b[34;01mgzip\u001b[39;00m\n\u001b[32m      4\u001b[39m \u001b[38;5;28;01mimport\u001b[39;00m\u001b[38;5;250m \u001b[39m\u001b[34;01minspect\u001b[39;00m\n\u001b[32m      5\u001b[39m \u001b[38;5;28;01mimport\u001b[39;00m\u001b[38;5;250m \u001b[39m\u001b[34;01mitertools\u001b[39;00m\n",
      "\u001b[36mFile \u001b[39m\u001b[32md:\\Iliuha_projects\\neurosci\\bbab\\Drosophila-Larvae-Simulation\\.venv\\Lib\\site-packages\\networkx\\utils\\decorators.py:198\u001b[39m, in \u001b[36mopen_file.<locals>._open_file\u001b[39m\u001b[34m(path)\u001b[39m\n\u001b[32m    194\u001b[39m \u001b[38;5;28;01melse\u001b[39;00m:\n\u001b[32m    195\u001b[39m     \u001b[38;5;66;03m# could be None, or a file handle, in which case the algorithm will deal with it\u001b[39;00m\n\u001b[32m    196\u001b[39m     \u001b[38;5;28;01mreturn\u001b[39;00m path, \u001b[38;5;28;01mlambda\u001b[39;00m: \u001b[38;5;28;01mNone\u001b[39;00m\n\u001b[32m--> \u001b[39m\u001b[32m198\u001b[39m fobj = \u001b[43m_dispatch_dict\u001b[49m\u001b[43m[\u001b[49m\u001b[43mext\u001b[49m\u001b[43m]\u001b[49m\u001b[43m(\u001b[49m\u001b[43mpath\u001b[49m\u001b[43m,\u001b[49m\u001b[43m \u001b[49m\u001b[43mmode\u001b[49m\u001b[43m=\u001b[49m\u001b[43mmode\u001b[49m\u001b[43m)\u001b[49m\n\u001b[32m    199\u001b[39m \u001b[38;5;28;01mreturn\u001b[39;00m fobj, \u001b[38;5;28;01mlambda\u001b[39;00m: fobj.close()\n",
      "\u001b[31mFileNotFoundError\u001b[39m: [Errno 2] No such file or directory: 'Ilya/catmaid/structure/combined.gml'"
     ]
    }
   ],
   "source": []
  }
 ],
 "metadata": {
  "kernelspec": {
   "display_name": ".venv (3.11.5)",
   "language": "python",
   "name": "python3"
  },
  "language_info": {
   "codemirror_mode": {
    "name": "ipython",
    "version": 3
   },
   "file_extension": ".py",
   "mimetype": "text/x-python",
   "name": "python",
   "nbconvert_exporter": "python",
   "pygments_lexer": "ipython3",
   "version": "3.11.5"
  }
 },
 "nbformat": 4,
 "nbformat_minor": 5
}
