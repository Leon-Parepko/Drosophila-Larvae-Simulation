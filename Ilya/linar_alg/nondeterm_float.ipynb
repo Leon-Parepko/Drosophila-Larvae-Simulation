{
 "cells": [
  {
   "cell_type": "code",
   "execution_count": 467,
   "id": "333d195d",
   "metadata": {},
   "outputs": [],
   "source": [
    "from pytools import reduce\n",
    "from random import random\n",
    "\n",
    "def itob(i:int, lenght):\n",
    "    return ((i >> n) & 1 for n in range(lenght))\n",
    "\n",
    "class nd_variable:\n",
    "    def __init__(self, distribution:list[float]):\n",
    "        self.distribution = distribution\n",
    "\n",
    "    def __len__(self):\n",
    "        return len(self.distribution)\n",
    "\n",
    "    def collapse(self):\n",
    "        return ((random() < d) << n for n, d in enumerate(self.distribution))\n",
    "\n",
    "    def __call__(self):\n",
    "        return reduce(lambda a, b: a | b, self.collapse())\n",
    "    \n",
    "    def __str__(self):\n",
    "        return ''.join(map(lambda i: str(i), self.collapse()))\n",
    "\n",
    "    def __add__(self, b:'nd_variable'):\n",
    "        if type(b) is float:\n",
    "            return self + nd_variable([b]*len(self))\n",
    "        assert len(self) == len(b)\n",
    "        return collapsed(self() | b(), len(self))\n",
    "\n",
    "    def __sub__(self, b:'nd_variable'):\n",
    "        if type(b) is float:\n",
    "            return self - nd_variable([b]*len(self))\n",
    "        assert len(self) == len(b)\n",
    "        return collapsed(self() ^ b(), len(self))\n",
    "\n",
    "    def __mul__(self, b:'nd_variable'):\n",
    "        if type(b) is float:\n",
    "            return self * nd_variable([b]*len(self))\n",
    "        assert len(self) == len(b)\n",
    "        return collapsed(self() & b(), len(self))\n",
    "    \n",
    "    def __pow__(self, n:int):\n",
    "        return reduce(lambda a, b: a & b, (self() for _ in range(n)))\n",
    "    \n",
    "    def __matmul__(self, b:'nd_variable'):\n",
    "        assert len(self) == len(b)\n",
    "        return reduce(lambda a, b: a|b, (a & b for a, b in zip(self.collapse(), b.collapse())))\n",
    "\n",
    "class collapsed(nd_variable):\n",
    "    def __init__(self, value, lenght):\n",
    "        super().__init__([None]*lenght)\n",
    "        self.value = value\n",
    "    \n",
    "    def __call__(self):\n",
    "        return self.value\n",
    "\n",
    "def measure(function, N, lenght, **values):\n",
    "    return [g/N for g in reduce(lambda a, b: [ai + bi for ai, bi in zip(a, b)], ([*itob(function(**values).value, lenght)] for n in range(N)))]"
   ]
  },
  {
   "cell_type": "code",
   "execution_count": 531,
   "id": "3b269163",
   "metadata": {},
   "outputs": [
    {
     "data": {
      "text/plain": [
       "0.04500000000000001"
      ]
     },
     "execution_count": 531,
     "metadata": {},
     "output_type": "execute_result"
    }
   ],
   "source": [
    "x = nd_variable([0.5]*100)\n",
    "y = nd_variable([0.3]*100)\n",
    "sum(measure(lambda x, y: x*0.1, 10, 100, x = x, y = y))/100"
   ]
  },
  {
   "cell_type": "code",
   "execution_count": 469,
   "id": "dfa8f4ad",
   "metadata": {},
   "outputs": [
    {
     "data": {
      "text/plain": [
       "0.35"
      ]
     },
     "execution_count": 469,
     "metadata": {},
     "output_type": "execute_result"
    }
   ],
   "source": [
    "0.5*0.7"
   ]
  },
  {
   "cell_type": "code",
   "execution_count": 470,
   "id": "31c70e9b",
   "metadata": {},
   "outputs": [
    {
     "data": {
      "text/plain": [
       "0.24"
      ]
     },
     "execution_count": 470,
     "metadata": {},
     "output_type": "execute_result"
    }
   ],
   "source": [
    "0.8*0.3"
   ]
  }
 ],
 "metadata": {
  "kernelspec": {
   "display_name": ".venv (3.11.5)",
   "language": "python",
   "name": "python3"
  },
  "language_info": {
   "codemirror_mode": {
    "name": "ipython",
    "version": 3
   },
   "file_extension": ".py",
   "mimetype": "text/x-python",
   "name": "python",
   "nbconvert_exporter": "python",
   "pygments_lexer": "ipython3",
   "version": "3.11.5"
  }
 },
 "nbformat": 4,
 "nbformat_minor": 5
}
